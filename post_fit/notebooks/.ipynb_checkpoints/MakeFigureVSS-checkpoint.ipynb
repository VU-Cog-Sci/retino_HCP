{
 "cells": [
  {
   "cell_type": "code",
   "execution_count": 37,
   "metadata": {},
   "outputs": [
    {
     "data": {
      "text/html": [
       "<style>.container { width:100% !important; }</style>"
      ],
      "text/plain": [
       "<IPython.core.display.HTML object>"
      ]
     },
     "metadata": {},
     "output_type": "display_data"
    }
   ],
   "source": [
    "from IPython.core.display import display, HTML\n",
    "display(HTML(\"<style>.container { width:100% !important; }</style>\"))\n",
    "\n",
    "# Stop warnings\n",
    "# -------------\n",
    "import warnings\n",
    "warnings.filterwarnings(\"ignore\")\n",
    "\n",
    "# General imports\n",
    "# ---------------\n",
    "import os\n",
    "import sys\n",
    "import json\n",
    "import glob\n",
    "import numpy as np\n",
    "import matplotlib\n",
    "import matplotlib.pyplot as plt\n",
    "import matplotlib.colors as colors\n",
    "import matplotlib.colors as colors\n",
    "import ipdb\n",
    "import platform\n",
    "opj = os.path.join\n",
    "deb = ipdb.set_trace\n",
    "%matplotlib inline\n",
    "import time\n",
    "\n",
    "# MRI imports\n",
    "# -----------\n",
    "import nibabel as nb\n",
    "import cortex\n",
    "\n",
    "subject = '999999'\n",
    "\n",
    "# Define analysis parameters\n",
    "# --------------------------\n",
    "with open('../../settings.json') as f:\n",
    "    json_s = f.read()\n",
    "    analysis_info = json.loads(json_s)\n",
    "\n",
    "# Define cluster/server specific parameters\n",
    "# -----------------------------------------\n",
    "if 'aeneas' in platform.uname()[1]:\n",
    "    base_dir = analysis_info['aeneas_base_folder']\n",
    "elif 'local' in platform.uname()[1]:\n",
    "    base_dir = analysis_info['local_base_folder']\n",
    "\n",
    "fit_model = 'gauss'\n",
    "deriv_dir = opj(base_dir,'pp_data',subject,fit_model,'deriv')\n",
    "\n",
    "# Create derivatives flatmaps\n",
    "# ---------------------------\n",
    "sign_idx, rsq_idx, ecc_idx, polar_real_idx, polar_imag_idx , size_idx, \\\n",
    "            non_lin_idx, amp_idx, baseline_idx, cov_idx, x_idx, y_idx = 0,1,2,3,4,5,6,7,8,9,10,11\n",
    "mask_dir  = 'pos'\n",
    "\n",
    "# Get data and combine hemispheres\n",
    "deriv_mat=[]\n",
    "for hemi in ['L','R']:\n",
    "    deriv_file = nb.load(opj(deriv_dir,mask_dir,\"prf_deriv_{hemi}_{mask_dir}_fsaverage.func.gii\".format(hemi = hemi, mask_dir = mask_dir)))\n",
    "    deriv_mat.append(np.array([deriv_file.darrays[i].data for i in range(len(deriv_file.darrays))]))\n",
    "deriv_mat = np.hstack(deriv_mat)\n",
    "deriv_mat = deriv_mat.T"
   ]
  },
  {
   "cell_type": "code",
   "execution_count": 38,
   "metadata": {},
   "outputs": [],
   "source": [
    "# R-square\n",
    "rsq_data = deriv_mat[:,rsq_idx]\n",
    "rsq_data = np.nan_to_num(rsq_data)\n",
    "rsq_data = rsq_data*255.0\n",
    "rsq_data = rsq_data.astype(np.uint8)\n",
    "\n",
    "data4mask = deriv_mat\n",
    "rsq_data[np.logical_or(np.logical_or(  data4mask[:,rsq_idx]<=0.0,\n",
    "                                        data4mask[:,cov_idx]<=0.0),\n",
    "                                        data4mask[:,size_idx]<=0)] = 0.0\n"
   ]
  },
  {
   "cell_type": "code",
   "execution_count": 39,
   "metadata": {},
   "outputs": [],
   "source": [
    "cmap_steps = 255\n",
    "col_offset = 14/16\n",
    "\n",
    "pol_comp_num = deriv_mat[:,polar_real_idx] + 1j * deriv_mat[:,polar_imag_idx]\n",
    "polar_ang = np.angle(pol_comp_num)\n",
    "norm_polar_data = (polar_ang + np.pi) / (np.pi * 2.0)\n",
    "norm_polar_data = np.fmod(norm_polar_data + col_offset,1)\n",
    "norm_polar_data_digit = np.digitize(norm_polar_data,np.linspace(0,1,cmap_steps,endpoint=False))\n",
    "norm_polar_data_discrete = norm_polar_data_digit/cmap_steps - (1/(cmap_steps*2))\n",
    "norm_polar_data_discrete = norm_polar_data_discrete*255.0\n",
    "norm_polar_data_discrete = norm_polar_data_discrete.astype(np.uint8)"
   ]
  },
  {
   "cell_type": "code",
   "execution_count": 4,
   "metadata": {},
   "outputs": [],
   "source": [
    "vertex_empty = cortex.Vertex2D(   dim1 = norm_polar_data_discrete, \n",
    "                                  dim2 = rsq_data*0+1,\n",
    "                                  description = 'polar_angle',\n",
    "                                  subject = 'fsaverage', \n",
    "                                  cmap = 'Retinotopy_RYBCR_alpha', \n",
    "                                  vmin = 0,\n",
    "                                  vmax = 255,\n",
    "                                  vmin2 = 0,\n",
    "                                  vmax2 = 255\n",
    "                         )\n"
   ]
  },
  {
   "cell_type": "code",
   "execution_count": 44,
   "metadata": {},
   "outputs": [],
   "source": [
    "flat = {'camera.altitude':0,\n",
    "        'camera.azimuth':180,\n",
    "        'camera.radius':300,\n",
    "        'surface.{subject}.depth':1,\n",
    "        'surface.{subject}.unfold':1, # 0 for reset 1 for flat\n",
    "        'surface.{subject}.specularity':0,\n",
    "                            }\n",
    "\n",
    "left_hemi_lateral_inflated = {'camera.altitude':90,\n",
    "                             'camera.azimuth':90,\n",
    "                             'camera.radius':300,\n",
    "                             'surface.{subject}.unfold':0.5, # 0 for reset 1 for flat\n",
    "                             'surface.{subject}.depth':1,\n",
    "                              'surface.{subject}.left':True,\n",
    "                             'surface.{subject}.right':False,\n",
    "                             'surface.{subject}.specularity':0,\n",
    "                            }\n",
    "\n",
    "left_hemi_medial_inflated = {'camera.altitude':90,\n",
    "                             'camera.azimuth':270,\n",
    "                             'camera.radius':300,\n",
    "                             'surface.{subject}.unfold':0.5, # 0 for reset 1 for flat\n",
    "                             'surface.{subject}.depth':1,\n",
    "                             'surface.{subject}.left':True,\n",
    "                             'surface.{subject}.right':False,\n",
    "                             'surface.{subject}.specularity':0,\n",
    "                            }\n",
    "right_hemi_lateral_inflated = {  'camera.altitude':90,\n",
    "                                 'camera.azimuth':270,\n",
    "                                 'camera.radius':300,\n",
    "                                 'surface.{subject}.unfold':0.5, # 0 for reset 1 for flat\n",
    "                                 'surface.{subject}.depth':1,\n",
    "                                 'surface.{subject}.left':False,\n",
    "                                 'surface.{subject}.right':True,\n",
    "                                 'surface.{subject}.specularity':0,\n",
    "                                }\n",
    "right_hemi_medial_inflated = {   'camera.altitude':90,\n",
    "                                 'camera.azimuth':90,\n",
    "                                 'camera.radius':300,\n",
    "                                 'surface.{subject}.unfold':0.5, # 0 for reset 1 for flat\n",
    "                                 'surface.{subject}.depth':1,\n",
    "                                 'surface.{subject}.left':False,\n",
    "                                 'surface.{subject}.right':True,\n",
    "                                 'surface.{subject}.specularity':0\n",
    "                             }\n",
    "\n",
    "dorsal_inflated = {   'camera.altitude':90,\n",
    "                      'camera.azimuth':180,\n",
    "                      'camera.radius':300,\n",
    "                      'surface.{subject}.unfold':0.5, # 0 for reset 1 for flat\n",
    "                      'surface.{subject}.left':True,\n",
    "                      'surface.{subject}.depth':1,\n",
    "                      'surface.{subject}.right':True,\n",
    "                      'surface.{subject}.specularity':0.2,\n",
    "                                }\n",
    "\n",
    "views = ['flat','left_hemi_lateral_inflated','left_hemi_medial_inflated','right_hemi_lateral_inflated','right_hemi_medial_inflated','dorsal_inflated']\n",
    "\n"
   ]
  },
  {
   "cell_type": "code",
   "execution_count": 5,
   "metadata": {},
   "outputs": [
    {
     "name": "stdout",
     "output_type": "stream",
     "text": [
      "Generating new ctm file...\n",
      "wm\n",
      "wm\n",
      "inflated\n",
      "inflated\n",
      "Started server on port 2513\n"
     ]
    }
   ],
   "source": [
    "handle = cortex.webgl.show(data =vertex_empty,recache = True)"
   ]
  },
  {
   "cell_type": "code",
   "execution_count": 36,
   "metadata": {},
   "outputs": [],
   "source": [
    "# to set manually\n",
    "# take out roi\n",
    "# curvature brightness: 0.7\n",
    "# curvature contrast: 0.3\n",
    "# curvature smoothness: 0.1\n",
    "\n",
    "img_dir = '/home/szinte/projects/retino_HCP/post_fit/notebooks/figs/FigureVSS'\n",
    "type_plot = 'empty'\n",
    "\n",
    "                              \n",
    "for view in views:\n",
    "    exec(\"handle._set_view(**{view})\".format(view = view))\n",
    "    handle.getImage(\"{imdir}/{view}_{type_plot}.png\".format(imdir=img_dir, view = view, type_plot = type_plot),size = (3840, 2160))"
   ]
  },
  {
   "cell_type": "code",
   "execution_count": 42,
   "metadata": {},
   "outputs": [],
   "source": [
    "vertex_retino = cortex.Vertex2D(   dim1 = norm_polar_data_discrete, \n",
    "                                  dim2 = rsq_data,\n",
    "                                  description = 'polar_angle',\n",
    "                                  subject = 'fsaverage', \n",
    "                                  cmap = 'Retinotopy_RYBCR_alpha', \n",
    "                                  vmin = 0,\n",
    "                                  vmax = 255,\n",
    "                                  vmin2 = 0,\n",
    "                                  vmax2 = 255\n",
    "                         )\n"
   ]
  },
  {
   "cell_type": "code",
   "execution_count": 43,
   "metadata": {},
   "outputs": [
    {
     "name": "stdout",
     "output_type": "stream",
     "text": [
      "Generating new ctm file...\n",
      "wm\n",
      "wm\n",
      "inflated\n",
      "inflated\n",
      "Started server on port 48385\n"
     ]
    }
   ],
   "source": [
    "handle = cortex.webgl.show(data =vertex_retino,recache = True)"
   ]
  },
  {
   "cell_type": "code",
   "execution_count": 45,
   "metadata": {},
   "outputs": [],
   "source": [
    "# to set manually\n",
    "# take out roi\n",
    "# put scale to 0 255\n",
    "# curvature brightness: 0.7\n",
    "# curvature contrast: 0.3\n",
    "# curvature smoothness: 0.1\n",
    "\n",
    "img_dir = '/home/szinte/projects/retino_HCP/post_fit/notebooks/figs/FigureVSS'\n",
    "type_plot = 'retino_pos_no_roi'\n",
    "\n",
    "views = ['flat','left_hemi_lateral_inflated','left_hemi_medial_inflated','right_hemi_lateral_inflated','right_hemi_medial_inflated','dorsal_inflated']\n",
    "                              \n",
    "for view in views:\n",
    "    exec(\"handle._set_view(**{view})\".format(view = view))\n",
    "    handle.getImage(\"{imdir}/{view}_{type_plot}.png\".format(imdir=img_dir, view = view, type_plot = type_plot),size = (3840, 2160))"
   ]
  },
  {
   "cell_type": "code",
   "execution_count": 46,
   "metadata": {},
   "outputs": [],
   "source": [
    "# to set manually\n",
    "# put roi visible\n",
    "# put scale to 0 255\n",
    "# curvature brightness: 0.7\n",
    "# curvature contrast: 0.3\n",
    "# curvature smoothness: 0.1\n",
    "\n",
    "img_dir = '/home/szinte/projects/retino_HCP/post_fit/notebooks/figs/FigureVSS'\n",
    "type_plot = 'retino_pos_roi'\n",
    "\n",
    "views = ['flat','left_hemi_lateral_inflated','left_hemi_medial_inflated','right_hemi_lateral_inflated','right_hemi_medial_inflated','dorsal_inflated']\n",
    "                              \n",
    "for view in views:\n",
    "    exec(\"handle._set_view(**{view})\".format(view = view))\n",
    "    handle.getImage(\"{imdir}/{view}_{type_plot}.png\".format(imdir=img_dir, view = view, type_plot = type_plot),size = (3840, 2160))"
   ]
  },
  {
   "cell_type": "code",
   "execution_count": 48,
   "metadata": {},
   "outputs": [],
   "source": [
    "mask_dir  = 'all'\n",
    "\n",
    "# Get data and combine hemispheres\n",
    "deriv_mat=[]\n",
    "for hemi in ['L','R']:\n",
    "    deriv_file = nb.load(opj(deriv_dir,mask_dir,\"prf_deriv_{hemi}_{mask_dir}_fsaverage.func.gii\".format(hemi = hemi, mask_dir = mask_dir)))\n",
    "    deriv_mat.append(np.array([deriv_file.darrays[i].data for i in range(len(deriv_file.darrays))]))\n",
    "deriv_mat = np.hstack(deriv_mat)\n",
    "deriv_mat = deriv_mat.T\n",
    "\n",
    "# R-square\n",
    "rsq_data = deriv_mat[:,rsq_idx]\n",
    "rsq_data = np.nan_to_num(rsq_data)\n",
    "sign_data = deriv_mat[:,sign_idx]\n",
    "sign_data = np.nan_to_num(sign_data)\n",
    "data = rsq_data * sign_data\n",
    "\n",
    "cmap = 'BuBkRd'\n",
    "cmap_steps = 255\n",
    "vmin,vmax = -1,1\n",
    "\n",
    "# define colormap\n",
    "base = cortex.utils.get_cmap(cmap)\n",
    "val = np.linspace(0, 1,cmap_steps+1,endpoint=False)\n",
    "colmap = colors.LinearSegmentedColormap.from_list(  'my_colmap',\n",
    "                                                    base(val),\n",
    "                                                    N = cmap_steps)\n",
    "# convert data to RGB\n",
    "vrange = float(vmax) - float(vmin)\n",
    "norm_data = ((data-float(vmin))/vrange)*cmap_steps\n",
    "mat = colmap(norm_data.astype(int))\n",
    "\n",
    "vertex_rgb = cortex.VertexRGB(  red = mat[...,0],\n",
    "                                green = mat[...,1],\n",
    "                                blue = mat[...,2],\n",
    "                                subject = 'fsaverage', \n",
    "                                description = 'PRF Sign',\n",
    "                                )\n"
   ]
  },
  {
   "cell_type": "code",
   "execution_count": null,
   "metadata": {},
   "outputs": [],
   "source": [
    "handle = cortex.webgl.show(data = vertex_rgb,recache = True)"
   ]
  }
 ],
 "metadata": {
  "kernelspec": {
   "display_name": "Python 3",
   "language": "python",
   "name": "python3"
  },
  "language_info": {
   "codemirror_mode": {
    "name": "ipython",
    "version": 3
   },
   "file_extension": ".py",
   "mimetype": "text/x-python",
   "name": "python",
   "nbconvert_exporter": "python",
   "pygments_lexer": "ipython3",
   "version": "3.6.3"
  }
 },
 "nbformat": 4,
 "nbformat_minor": 2
}
