{
 "cells": [
  {
   "cell_type": "code",
   "execution_count": 12,
   "metadata": {},
   "outputs": [],
   "source": [
    "# Stop warnings\n",
    "# -------------\n",
    "import warnings\n",
    "warnings.filterwarnings(\"ignore\")\n",
    "\n",
    "\n",
    "# General imports\n",
    "# ---------------\n",
    "import os\n",
    "import sys\n",
    "import ipdb\n",
    "import numpy as np\n",
    "import json\n",
    "opj = os.path.join\n",
    "deb = ipdb.set_trace\n",
    "\n",
    "# Define analysis parameters\n",
    "# --------------------------\n",
    "with open('/home/szinte/projects/retino_HCP/settings.json') as f:\n",
    "    json_s = f.read()\n",
    "    analysis_info = json.loads(json_s)\n"
   ]
  },
  {
   "cell_type": "code",
   "execution_count": 17,
   "metadata": {},
   "outputs": [],
   "source": [
    "first_num = 3\n",
    "subjects_hcp_osf =[]\n",
    "for sub in np.arange(181):\n",
    "    if first_num < 10:\n",
    "        subjects_hcp_osf.append(\"sub-00{}\".format(first_num))\n",
    "    elif first_num < 100:\n",
    "        subjects_hcp_osf.append(\"sub-0{}\".format(first_num))\n",
    "    else:\n",
    "        subjects_hcp_osf.append(\"sub-{}\".format(first_num))\n",
    "    first_num += 1\n",
    "    \n",
    "subjects_hcp_osf.append('sub-999')\n",
    "\n",
    "subjects_hcp_aeneas = analysis_info['subject_list']\n",
    "subjects_hcp_aeneas.append('999999')\n",
    "\n",
    "files_gii_L = 'tfMRI_RETBAR1_7T_AP_Atlas_MSMAll_hp2000_clean.dtseries_L.func_bla_psc_est.gii'\n",
    "files_gii_R = 'tfMRI_RETBAR1_7T_AP_Atlas_MSMAll_hp2000_clean.dtseries_R.func_bla_psc_est.gii'\n",
    "orig_basedir = '/home/shared/2018/visual/nprf_hcp/pp_data'\n",
    "dest_basedir = '/home/shared/2018/visual/nprf_hcp/osf_data'\n",
    "cmd_trans = 'rsync -a --no-g --no-p -vzhe ssh --progress'\n",
    "\n",
    "for subject_hcp_osf,subject_hcp_aeneas in zip(subjects_hcp_osf,subjects_hcp_aeneas):\n",
    "    \n",
    "    orig_folder = '{}/{}/gauss/fit'.format(orig_basedir,subject_hcp_aeneas)\n",
    "    dest_folder = '{}/model_outputs'.format(dest_basedir)\n",
    "    \n",
    "    for hemi in ['L','R']:\n",
    "        if hemi == 'L':orig_file = files_gii_L\n",
    "        elif hemi == 'R':orig_file = files_gii_R\n",
    "            \n",
    "        cmd_transfer = \"{cmd} {orig_folder}/{orig_file} {dest_folder}/{sub}_estimates_{hemi}.gii\".format(  cmd = cmd_trans,\n",
    "                                                                                                            orig_folder = orig_folder,\n",
    "                                                                                                            orig_file = orig_file,\n",
    "                                                                                                            dest_folder = dest_folder,\n",
    "                                                                                                            sub = subject_hcp_osf,\n",
    "                                                                                                            hemi = hemi)\n",
    "\n",
    "\n",
    "    \n",
    "        os.system(cmd_transfer)\n",
    "\n"
   ]
  },
  {
   "cell_type": "code",
   "execution_count": 23,
   "metadata": {},
   "outputs": [
    {
     "name": "stdout",
     "output_type": "stream",
     "text": [
      "rsync -a --no-g --no-p -vzhe ssh --progress /home/shared/2018/visual/nprf_indiv/pp_data/sub-01/gauss/fit/sub-01_task-prf_space-fsaverage6.func_sg_psc_est_L.gii /home/shared/2018/visual/nprf_indiv/osf_data/model_outputs/sub-001_estimates_L.gii\n",
      "rsync -a --no-g --no-p -vzhe ssh --progress /home/shared/2018/visual/nprf_indiv/pp_data/sub-01/gauss/fit/sub-01_task-prf_space-fsaverage6.func_sg_psc_est_R.gii /home/shared/2018/visual/nprf_indiv/osf_data/model_outputs/sub-001_estimates_R.gii\n"
     ]
    },
    {
     "ename": "NameError",
     "evalue": "name 'ddd' is not defined",
     "output_type": "error",
     "traceback": [
      "\u001b[0;31m---------------------------------------------------------------------------\u001b[0m",
      "\u001b[0;31mNameError\u001b[0m                                 Traceback (most recent call last)",
      "\u001b[0;32m<ipython-input-23-4d745846a552>\u001b[0m in \u001b[0;36m<module>\u001b[0;34m()\u001b[0m\n\u001b[1;32m     26\u001b[0m \u001b[0;34m\u001b[0m\u001b[0m\n\u001b[1;32m     27\u001b[0m         \u001b[0mprint\u001b[0m\u001b[0;34m(\u001b[0m\u001b[0mcmd_transfer\u001b[0m\u001b[0;34m)\u001b[0m\u001b[0;34m\u001b[0m\u001b[0m\n\u001b[0;32m---> 28\u001b[0;31m     \u001b[0mddd\u001b[0m\u001b[0;34m\u001b[0m\u001b[0m\n\u001b[0m",
      "\u001b[0;31mNameError\u001b[0m: name 'ddd' is not defined"
     ]
    }
   ],
   "source": [
    "subjects_indiv_osf = ['sub-001','sub-002']\n",
    "subjects_indiv_aeneas = ['sub-01','sub-02']\n",
    "\n",
    "orig_basedir = '/home/shared/2018/visual/nprf_indiv/pp_data'\n",
    "dest_basedir = '/home/shared/2018/visual/nprf_indiv/osf_data'\n",
    "\n",
    "files_gii_L = 'task-prf_space-fsaverage6.func_sg_psc_est_L.gii'\n",
    "files_gii_R = 'task-prf_space-fsaverage6.func_sg_psc_est_R.gii'\n",
    "\n",
    "for subject_indiv_osf,subject_indiv_aeneas in zip(subjects_indiv_osf,subjects_indiv_aeneas):\n",
    "    \n",
    "    for hemi in ['L','R']:\n",
    "        if hemi == 'L':orig_file = files_gii_L\n",
    "        elif hemi == 'R':orig_file = files_gii_R\n",
    "\n",
    "        orig_folder = '{orig}/{sub}/gauss/fit'.format(orig = orig_basedir,sub = subject_indiv_aeneas)\n",
    "        dest_folder = '{}/model_outputs'.format(dest_basedir)\n",
    "        \n",
    "        cmd_transfer = \"{cmd} {orig_folder}/{sub_aeneas}_{orig_file} {dest_folder}/{sub_osf}_estimates_{hemi}.gii\".format(  cmd = cmd_trans,\n",
    "                                                                                                           orig_folder = orig_folder,\n",
    "                                                                                                           orig_file = orig_file,\n",
    "                                                                                                           dest_folder = dest_folder,\n",
    "                                                                                                           sub_aeneas = subject_indiv_aeneas,\n",
    "                                                                                                           sub_osf = subject_indiv_osf,\n",
    "                                                                                                           hemi = hemi)\n",
    "        \n",
    "        os.system(cmd_transfer)\n",
    "    ddd"
   ]
  },
  {
   "cell_type": "code",
   "execution_count": null,
   "metadata": {},
   "outputs": [],
   "source": []
  }
 ],
 "metadata": {
  "kernelspec": {
   "display_name": "Python 3",
   "language": "python",
   "name": "python3"
  },
  "language_info": {
   "codemirror_mode": {
    "name": "ipython",
    "version": 3
   },
   "file_extension": ".py",
   "mimetype": "text/x-python",
   "name": "python",
   "nbconvert_exporter": "python",
   "pygments_lexer": "ipython3",
   "version": "3.6.3"
  }
 },
 "nbformat": 4,
 "nbformat_minor": 2
}
