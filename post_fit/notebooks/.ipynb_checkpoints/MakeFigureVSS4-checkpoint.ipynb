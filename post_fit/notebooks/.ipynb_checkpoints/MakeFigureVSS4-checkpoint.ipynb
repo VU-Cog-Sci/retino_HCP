{
 "cells": [
  {
   "cell_type": "code",
   "execution_count": 1,
   "metadata": {},
   "outputs": [
    {
     "data": {
      "text/html": [
       "<style>.container { width:100% !important; }</style>"
      ],
      "text/plain": [
       "<IPython.core.display.HTML object>"
      ]
     },
     "metadata": {},
     "output_type": "display_data"
    }
   ],
   "source": [
    "from IPython.core.display import display, HTML\n",
    "display(HTML(\"<style>.container { width:100% !important; }</style>\"))\n",
    "\n",
    "# Stop warnings\n",
    "# -------------\n",
    "import warnings\n",
    "warnings.filterwarnings(\"ignore\")\n",
    "\n",
    "# General imports\n",
    "# ---------------\n",
    "import os\n",
    "import sys\n",
    "import json\n",
    "import glob\n",
    "import numpy as np\n",
    "import matplotlib\n",
    "import matplotlib.pyplot as plt\n",
    "import matplotlib.colors as colors\n",
    "import matplotlib.colors as colors\n",
    "import ipdb\n",
    "import platform\n",
    "opj = os.path.join\n",
    "deb = ipdb.set_trace\n",
    "%matplotlib inline\n",
    "import time\n",
    "\n",
    "# MRI imports\n",
    "# -----------\n",
    "import nibabel as nb\n",
    "import cortex\n",
    "\n",
    "subject = '999999'\n",
    "\n",
    "# Define analysis parameters\n",
    "# --------------------------\n",
    "with open('../../settings.json') as f:\n",
    "    json_s = f.read()\n",
    "    analysis_info = json.loads(json_s)\n",
    "\n",
    "# Define cluster/server specific parameters\n",
    "# -----------------------------------------\n",
    "if 'aeneas' in platform.uname()[1]:\n",
    "    base_dir = analysis_info['aeneas_base_folder']\n",
    "elif 'local' in platform.uname()[1]:\n",
    "    base_dir = analysis_info['local_base_folder']\n",
    "\n",
    "fit_model = 'gauss'\n",
    "deriv_dir = opj(base_dir,'pp_data',subject,fit_model,'deriv')\n",
    "\n",
    "# Create derivatives flatmaps\n",
    "# ---------------------------\n",
    "sign_idx, rsq_idx, ecc_idx, polar_real_idx, polar_imag_idx , size_idx, \\\n",
    "            non_lin_idx, amp_idx, baseline_idx, cov_idx, x_idx, y_idx = 0,1,2,3,4,5,6,7,8,9,10,11\n",
    "mask_dir  = 'all'\n",
    "\n",
    "# Get data and combine hemispheres\n",
    "deriv_mat=[]\n",
    "for hemi in ['L','R']:\n",
    "    deriv_file = nb.load(opj(deriv_dir,mask_dir,\"prf_deriv_{hemi}_{mask_dir}_fsaverage.func.gii\".format(hemi = hemi, mask_dir = mask_dir)))\n",
    "    deriv_mat.append(np.array([deriv_file.darrays[i].data for i in range(len(deriv_file.darrays))]))\n",
    "deriv_mat = np.hstack(deriv_mat)\n",
    "deriv_mat = deriv_mat.T\n",
    "\n",
    "ts_mat=[]\n",
    "ts_file = nb.load(opj(base_dir,'raw_data',subject,'tfMRI_RETBAR1_7T_AP_Atlas_MSMAll_hp2000_clean.dtseries_LR.func_bla_psc_av_fsaverage.gii'))\n",
    "ts_mat.append(np.array([ts_file.darrays[i].data for i in range(len(ts_file.darrays))]))\n",
    "ts_mat = np.hstack(ts_mat)"
   ]
  },
  {
   "cell_type": "code",
   "execution_count": 2,
   "metadata": {},
   "outputs": [],
   "source": [
    "flat = {'camera.altitude':0,\n",
    "        'camera.azimuth':180,\n",
    "        'camera.radius':300,\n",
    "        'surface.{subject}.depth':1,\n",
    "        'surface.{subject}.unfold':1, # 0 for reset 1 for flat\n",
    "        'surface.{subject}.specularity':0,\n",
    "                            }\n",
    "\n",
    "left_hemi_lateral_inflated = {'camera.altitude':90,\n",
    "                             'camera.azimuth':90,\n",
    "                             'camera.radius':300,\n",
    "                             'surface.{subject}.unfold':0.5, # 0 for reset 1 for flat\n",
    "                             'surface.{subject}.depth':1,\n",
    "                              'surface.{subject}.left':True,\n",
    "                             'surface.{subject}.right':False,\n",
    "                             'surface.{subject}.specularity':0,\n",
    "                            }\n",
    "\n",
    "left_hemi_medial_inflated = {'camera.altitude':90,\n",
    "                             'camera.azimuth':270,\n",
    "                             'camera.radius':300,\n",
    "                             'surface.{subject}.unfold':0.5, # 0 for reset 1 for flat\n",
    "                             'surface.{subject}.depth':1,\n",
    "                             'surface.{subject}.left':True,\n",
    "                             'surface.{subject}.right':False,\n",
    "                             'surface.{subject}.specularity':0,\n",
    "                            }\n",
    "right_hemi_lateral_inflated = {  'camera.altitude':90,\n",
    "                                 'camera.azimuth':270,\n",
    "                                 'camera.radius':300,\n",
    "                                 'surface.{subject}.unfold':0.5, # 0 for reset 1 for flat\n",
    "                                 'surface.{subject}.depth':1,\n",
    "                                 'surface.{subject}.left':False,\n",
    "                                 'surface.{subject}.right':True,\n",
    "                                 'surface.{subject}.specularity':0,\n",
    "                                }\n",
    "right_hemi_medial_inflated = {   'camera.altitude':90,\n",
    "                                 'camera.azimuth':90,\n",
    "                                 'camera.radius':300,\n",
    "                                 'surface.{subject}.unfold':0.5, # 0 for reset 1 for flat\n",
    "                                 'surface.{subject}.depth':1,\n",
    "                                 'surface.{subject}.left':False,\n",
    "                                 'surface.{subject}.right':True,\n",
    "                                 'surface.{subject}.specularity':0\n",
    "                             }\n",
    "\n",
    "dorsal_inflated = {   'camera.altitude':90,\n",
    "                      'camera.azimuth':180,\n",
    "                      'camera.radius':300,\n",
    "                      'surface.{subject}.unfold':0.5, # 0 for reset 1 for flat\n",
    "                      'surface.{subject}.left':True,\n",
    "                      'surface.{subject}.depth':1,\n",
    "                      'surface.{subject}.right':True,\n",
    "                      'surface.{subject}.specularity':0.2,\n",
    "                                }\n",
    "\n",
    "views = ['flat','left_hemi_lateral_inflated','left_hemi_medial_inflated','right_hemi_lateral_inflated','right_hemi_medial_inflated','dorsal_inflated']\n",
    "\n"
   ]
  },
  {
   "cell_type": "code",
   "execution_count": 3,
   "metadata": {},
   "outputs": [],
   "source": [
    "cmap = 'BuBkRd_alpha_2D'\n",
    "# R-square\n",
    "rsq_data = deriv_mat[:,rsq_idx]\n",
    "rsq_data = np.nan_to_num(rsq_data)\n",
    "rsq_data = rsq_data*255.0\n",
    "rsq_data = rsq_data.astype(np.uint8)\n",
    "\n",
    "vertex_ts = cortex.Vertex2D(   dim1 = ts_mat, \n",
    "                                  dim2 = rsq_data,\n",
    "                                  description = 'time_course',\n",
    "                                  subject = 'fsaverage', \n",
    "                                  cmap = cmap,\n",
    "                                  vmin = -2,\n",
    "                                  vmax = 2,\n",
    "                                  vmin2 = 0,\n",
    "                                  vmax2 = 255\n",
    "                         )"
   ]
  },
  {
   "cell_type": "code",
   "execution_count": 4,
   "metadata": {},
   "outputs": [
    {
     "name": "stdout",
     "output_type": "stream",
     "text": [
      "Generating new ctm file...\n",
      "wm\n",
      "wm\n",
      "inflated\n",
      "inflated\n",
      "Started server on port 19223\n",
      "Stopping server\n"
     ]
    }
   ],
   "source": [
    "handle = cortex.webgl.show(data = vertex_ts, recache = True)"
   ]
  },
  {
   "cell_type": "code",
   "execution_count": 36,
   "metadata": {},
   "outputs": [
    {
     "name": "stdout",
     "output_type": "stream",
     "text": [
      "Unknown parameter frame!\n"
     ]
    }
   ],
   "source": [
    "t2 = {'frame':2}\n",
    "\n",
    "exec(\"handle._set_view(**{view})\".format(view = t2))\n"
   ]
  },
  {
   "cell_type": "code",
   "execution_count": 46,
   "metadata": {},
   "outputs": [
    {
     "data": {
      "text/plain": [
       "0"
      ]
     },
     "execution_count": 46,
     "metadata": {},
     "output_type": "execute_result"
    },
    {
     "name": "stdout",
     "output_type": "stream",
     "text": [
      "Stopping server\n"
     ]
    }
   ],
   "source": [
    "handle.frame"
   ]
  },
  {
   "cell_type": "code",
   "execution_count": 53,
   "metadata": {},
   "outputs": [],
   "source": [
    "# to set manually\n",
    "# put roi visible not label\n",
    "# put scale to 0 255\n",
    "\n",
    "img_dir = '/home/szinte/projects/retino_HCP/post_fit/notebooks/figs/FigureVSS'\n",
    "type_plot = 'polarity_roi'\n",
    "\n",
    "views = ['flat','left_hemi_lateral_inflated','left_hemi_medial_inflated','right_hemi_lateral_inflated','right_hemi_medial_inflated','dorsal_inflated']\n",
    "                              \n",
    "for view in views:\n",
    "    exec(\"handle._set_view(**{view})\".format(view = view))\n",
    "    handle.getImage(\"{imdir}/{view}_{type_plot}.png\".format(imdir=img_dir, view = view, type_plot = type_plot),size = (3840, 2160))"
   ]
  },
  {
   "cell_type": "code",
   "execution_count": null,
   "metadata": {},
   "outputs": [],
   "source": []
  }
 ],
 "metadata": {
  "kernelspec": {
   "display_name": "Python 3",
   "language": "python",
   "name": "python3"
  },
  "language_info": {
   "codemirror_mode": {
    "name": "ipython",
    "version": 3
   },
   "file_extension": ".py",
   "mimetype": "text/x-python",
   "name": "python",
   "nbconvert_exporter": "python",
   "pygments_lexer": "ipython3",
   "version": "3.6.3"
  }
 },
 "nbformat": 4,
 "nbformat_minor": 2
}
