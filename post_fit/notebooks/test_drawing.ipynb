{
 "cells": [
  {
   "cell_type": "code",
   "execution_count": 1,
   "metadata": {},
   "outputs": [
    {
     "data": {
      "text/html": [
       "<style>.container { width:100% !important; }</style>"
      ],
      "text/plain": [
       "<IPython.core.display.HTML object>"
      ]
     },
     "metadata": {},
     "output_type": "display_data"
    }
   ],
   "source": [
    "from IPython.core.display import display, HTML\n",
    "display(HTML(\"<style>.container { width:100% !important; }</style>\"))\n",
    "\n",
    "# Stop warnings\n",
    "# -------------\n",
    "import warnings\n",
    "warnings.filterwarnings(\"ignore\")\n",
    "\n",
    "# General imports\n",
    "# ---------------\n",
    "import os\n",
    "import sys\n",
    "import json\n",
    "import glob\n",
    "import numpy as np\n",
    "import matplotlib.pyplot as pl\n",
    "import ipdb\n",
    "import platform\n",
    "import h5py\n",
    "opj = os.path.join\n",
    "deb = ipdb.set_trace\n",
    "\n",
    "# MRI imports\n",
    "# -----------\n",
    "import nibabel as nb\n",
    "import cortex\n",
    "\n",
    "# Bokeh imports\n",
    "# ---------------\n",
    "from bokeh.io import output_notebook, show, save, output_file, export_png, export_svgs\n",
    "from bokeh.layouts import row, column, gridplot\n",
    "\n",
    "# Get inputs\n",
    "# ----------\n",
    "subject = '999999'\n",
    "fit_model = 'gauss'"
   ]
  },
  {
   "cell_type": "code",
   "execution_count": 3,
   "metadata": {},
   "outputs": [],
   "source": [
    "# Define analysis parameters\n",
    "# --------------------------\n",
    "with open('../../settings.json') as f:\n",
    "    json_s = f.read()\n",
    "    analysis_info = json.loads(json_s)\n",
    "\n",
    "# Define cluster/server specific parameters\n",
    "# -----------------------------------------\n",
    "if 'aeneas' in platform.uname()[1]:\n",
    "    base_dir = analysis_info['aeneas_base_folder'] \n",
    "elif 'local' in platform.uname()[1]:\n",
    "    base_dir = analysis_info['local_base_folder'] \n",
    "    \n",
    "h5_dir = opj(base_dir,'pp_data',subject,fit_model,'h5')\n",
    "base_file_name = 'tfMRI_RETBAR1_7T_AP_Atlas_MSMAll_hp2000_clean.dtseries'\n",
    "    "
   ]
  },
  {
   "cell_type": "code",
   "execution_count": null,
   "metadata": {},
   "outputs": [],
   "source": [
    "# load time course data\n",
    "# load prf deriv data\n",
    "# create model time course\n",
    "# load masks\n",
    "# save per mask the time course recorded and modeled\n",
    "# plot time course for each vertex\n",
    "# plot time course for each vertex ordered by rsq\n",
    "# plot time course for each vertex ordered by amplitude & rsq\n",
    "# plot time course for each vertex ordered by eccentricity & rsq\n",
    "# plot time course for each vertex ordered by baseline & rsq\n",
    "# plot time course for each vertex ordered by non-linearity & rsq\n",
    "# plot time course for each vertex ordered by prf coverage & rsq"
   ]
  },
  {
   "cell_type": "code",
   "execution_count": null,
   "metadata": {},
   "outputs": [
    {
     "name": "stdout",
     "output_type": "stream",
     "text": [
      "creating bokeh time course plots\n",
      "> \u001b[0;32m<ipython-input-5-47cce20333c8>\u001b[0m(17)\u001b[0;36m<module>\u001b[0;34m()\u001b[0m\n",
      "\u001b[0;32m     16 \u001b[0;31m\u001b[0;34m\u001b[0m\u001b[0m\n",
      "\u001b[0m\u001b[0;32m---> 17 \u001b[0;31m    \u001b[0;32mfor\u001b[0m \u001b[0mroi\u001b[0m \u001b[0;32min\u001b[0m \u001b[0manalysis_info\u001b[0m\u001b[0;34m[\u001b[0m\u001b[0;34m'rois'\u001b[0m\u001b[0;34m]\u001b[0m\u001b[0;34m:\u001b[0m\u001b[0;34m\u001b[0m\u001b[0m\n",
      "\u001b[0m\u001b[0;32m     18 \u001b[0;31m\u001b[0;34m\u001b[0m\u001b[0m\n",
      "\u001b[0m\n"
     ]
    }
   ],
   "source": [
    "# Draw main analysis figure\n",
    "# -------------------------\n",
    "print('creating bokeh time course plots')\n",
    "\n",
    "# Initialize data dictionary that will save all data arrays\n",
    "\n",
    "for hemi in ['L', 'R', 'LR']:\n",
    "\n",
    "    # load time course of original data\n",
    "    orig_data_file  =  sorted(glob.glob(opj(base_dir,'raw_data',subject,'*RETBAR1_7T*%s.func_bla_psc_av.gii'% hemi)))\n",
    "    orig_data_file_load = nb.load(orig_data_file[0])\n",
    "    orig_data = []\n",
    "    orig_data.append(np.array([orig_data_file_load.darrays[i].data for i in range(len(orig_data_file_load.darrays))]))\n",
    "    orig_data = np.vstack(orig_data)\n",
    "    deb()\n",
    "    \n",
    "    for roi_num, roi in enumerate(analysis_info['rois']):\n",
    "    \n",
    "        mask_file = opj(roi_masks_dir,\"masks_{hemi}.func.gii\".format(hemi = hemi))    \n",
    "        for mask_dir in ['all','pos','neg']:\n",
    "\n",
    "            \n",
    "            # put time course data in \n",
    "            folder_alias = '{hemi}_{mask_dir}'.format(hemi = hemi,mask_dir = mask_dir)\n",
    "            \n",
    "            mask_gii_2_hdf5(in_file = orig_data_file,\n",
    "                            mask_file = mask_file,\n",
    "                            hdf5_file = h5_file,\n",
    "                            folder_alias = folder_alias,\n",
    "                            roi_num = roi_num)\n",
    "        \n",
    "            # create folders\n",
    "            roi_text = roi\n",
    "            exec('fig_bokeh_dir_{mask_dir}_{hemi} = opj(base_dir,\"pp_data\",subject,fit_model,\"figs\",\"prf\",\"{mask_dir}\",\"{hemi}\")'.format(mask_dir=mask_dir, hemi = hemi))\n",
    "            try: exec('os.makedirs(fig_bokeh_dir_{mask_dir}_{hemi})'.format(mask_dir=mask_dir,hemi = hemi))\n",
    "            except: pass\n",
    "            \n",
    "            # load data fit\n",
    "            data_hemi = []\n",
    "            if hemi == 'LR':\n",
    "                data = np.row_stack((data_hemi[0],data_hemi[1]))\n",
    "            else:\n",
    "                folder_alias = '{hemi}_{mask_dir}'.format(hemi = hemi,mask_dir = mask_dir)\n",
    "                h5_file = h5py.File(opj(h5_dir,'{roi}.h5'.format(roi = roi_text)), \"r\")\n",
    "                in_file = opj(\"prf_deriv_{hemi}_{mask_dir}\".format(hemi = hemi, mask_dir = mask_dir))\n",
    "                data = h5_file['{folder_alias}/{in_file}'.format(folder_alias=folder_alias,in_file=in_file)]\n",
    "                data = data[:,:].T\n",
    "                data_hemi.append(data)\n",
    "\n",
    "            \n",
    "            vertex_ini = data.shape[0]\n",
    "            if vertex_ini != 1:\n",
    "                data = data[data[:,1]>=analysis_info['rsq_threshold'],:]\n",
    "                data = data[data[:,9]>=analysis_info['cov_threshold'],:]\n",
    "                vertex = data.shape[0]\n",
    "                \n",
    "                \n",
    "        \n",
    "                \n",
    "# load h5 data\n",
    "# load plot_class\n",
    "\n",
    "\n"
   ]
  }
 ],
 "metadata": {
  "kernelspec": {
   "display_name": "Python 3",
   "language": "python",
   "name": "python3"
  },
  "language_info": {
   "codemirror_mode": {
    "name": "ipython",
    "version": 3
   },
   "file_extension": ".py",
   "mimetype": "text/x-python",
   "name": "python",
   "nbconvert_exporter": "python",
   "pygments_lexer": "ipython3",
   "version": "3.6.3"
  }
 },
 "nbformat": 4,
 "nbformat_minor": 2
}
