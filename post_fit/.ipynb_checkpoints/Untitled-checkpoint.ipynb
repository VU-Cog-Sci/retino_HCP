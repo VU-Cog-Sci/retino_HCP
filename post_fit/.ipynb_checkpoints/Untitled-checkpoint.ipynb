{
 "cells": [
  {
   "cell_type": "code",
   "execution_count": 4,
   "metadata": {},
   "outputs": [],
   "source": [
    "# Stop warnings\n",
    "# -------------\n",
    "import warnings\n",
    "warnings.filterwarnings(\"ignore\")\n",
    "\n",
    "# General imports\n",
    "# ---------------\n",
    "import os\n",
    "import sys\n",
    "import json\n",
    "import glob\n",
    "import numpy as np\n",
    "import matplotlib.pyplot as pl\n",
    "import ipdb\n",
    "import platform\n",
    "opj = os.path.join\n",
    "deb = ipdb.set_trace\n",
    "import cifti\n",
    "\n",
    "# MRI imports\n",
    "# -----------\n",
    "import nibabel as nb\n",
    "import cortex\n",
    "\n",
    "# Functions import\n",
    "# ----------------\n",
    "from utils import set_pycortex_config_file, convert_fit_results, draw_cortex_vertex\n",
    "\n",
    "#Get inputs\n",
    "subject = '999999'\n",
    "fit_model = 'gauss'\n",
    "job_vox = 2500\n",
    "draw_roi = 1\n",
    "\n",
    "if fit_model == 'gauss': fit_val = 6\n",
    "elif fit_model == 'css': fit_val = 7\n",
    "base_file_name = 'tfMRI_RETBARS_Atlas_1.6mm_MSMAll_hp2000_clean_sg_psc'\n",
    "\n",
    "\n",
    "# Define analysis parameters\n",
    "# --------------------------\n",
    "with open('/home/szinte/projects/retino_HCP/settings.json') as f:\n",
    "    json_s = f.read()\n",
    "    analysis_info = json.loads(json_s)\n",
    "\n",
    "# Define cluster/server specific parameters\n",
    "# -----------------------------------------\n",
    "if 'aeneas' in platform.uname()[1]:\n",
    "    base_dir = analysis_info['aeneas_base_folder']\n",
    "    main_cmd = '/home/szinte/software/workbench/bin_rh_linux64/wb_command'\n",
    "    # main_cmd = '/home/ada/software/workbench/bin_rh_linux64/wb_command'\n",
    "\n",
    "elif 'local' in platform.uname()[1]:\n",
    "    base_dir = analysis_info['local_base_folder'] \n",
    "    main_cmd = '/Applications/workbench/bin_macosx64/wb_command'\n",
    "\n",
    "# Output directory:\n",
    "deriv_dir = opj(base_dir,'pp_data',subject,fit_model,'deriv')\n",
    "\n"
   ]
  },
  {
   "cell_type": "code",
   "execution_count": 10,
   "metadata": {},
   "outputs": [],
   "source": [
    "# Combine fit files\n",
    "# -----------------\n",
    "prf_filename = opj(base_dir,'pp_data',subject,fit_model,'fit',\"{bfn}.dtseries.nii\".format(bfn= base_file_name))\n",
    "data_fit_file = cifti.read(prf_filename)\n",
    "\n",
    "sign_idx, rsq_idx, ecc_idx, polar_real_idx, polar_imag_idx , size_idx, \\\n",
    "                non_lin_idx, amp_idx, baseline_idx, cov_idx, x_idx, y_idx = 0,1,2,3,4,5,6,7,8,9,10,11"
   ]
  },
  {
   "cell_type": "code",
   "execution_count": 17,
   "metadata": {},
   "outputs": [],
   "source": [
    "data = data_fit_file[0]"
   ]
  },
  {
   "cell_type": "code",
   "execution_count": 31,
   "metadata": {},
   "outputs": [
    {
     "data": {
      "text/plain": [
       "0.33698081895597209"
      ]
     },
     "execution_count": 31,
     "metadata": {},
     "output_type": "execute_result"
    }
   ],
   "source": [
    "np.max(data[5,:])"
   ]
  },
  {
   "cell_type": "code",
   "execution_count": 33,
   "metadata": {},
   "outputs": [
    {
     "name": "stdout",
     "output_type": "stream",
     "text": [
      "separate cifti in cortical and subcortical\n"
     ]
    },
    {
     "data": {
      "text/plain": [
       "65280"
      ]
     },
     "execution_count": 33,
     "metadata": {},
     "output_type": "execute_result"
    }
   ],
   "source": [
    "print('separate cifti in cortical and subcortical')\n",
    "base_dir,'raw_data', \n",
    "cii_start = '/home/shared/2018/visual/subcortical_hcp/raw_data/999999/tfMRI_RETBARS_Atlas_1.6mm_MSMAll_hp2000_clean_sg_psc'\n",
    "cii_in = '/home/shared/2018/visual/subcortical_hcp/raw_data/999999/tfMRI_RETBARS_Atlas_1.6mm_MSMAll_hp2000_clean_sg_psc.dtseries.nii'\n",
    "\n",
    "separate_cmd = \"\"\"{main_cmd} -cifti-separate {cii_in}.nii COLUMN -volume-all {cii_start}_subcortical.nii.gz -metric CORTEX_LEFT {cii_start}_L.func.gii  -metric CORTEX_RIGHT {cii_start}_R.func.gii\"\"\"\n",
    "os.system(separate_cmd.format(main_cmd = main_cmd,\n",
    "                                  cii_in = cii_in,\n",
    "                                  cii_start = cii_start\n",
    "                                  ))"
   ]
  },
  {
   "cell_type": "code",
   "execution_count": null,
   "metadata": {},
   "outputs": [],
   "source": []
  }
 ],
 "metadata": {
  "kernelspec": {
   "display_name": "Python 3",
   "language": "python",
   "name": "python3"
  },
  "language_info": {
   "codemirror_mode": {
    "name": "ipython",
    "version": 3
   },
   "file_extension": ".py",
   "mimetype": "text/x-python",
   "name": "python",
   "nbconvert_exporter": "python",
   "pygments_lexer": "ipython3",
   "version": "3.6.3"
  }
 },
 "nbformat": 4,
 "nbformat_minor": 2
}
