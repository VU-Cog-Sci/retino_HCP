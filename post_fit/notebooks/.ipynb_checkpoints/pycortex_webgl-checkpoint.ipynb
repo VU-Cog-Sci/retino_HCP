{
 "cells": [
  {
   "cell_type": "code",
   "execution_count": 43,
   "metadata": {},
   "outputs": [
    {
     "data": {
      "text/html": [
       "<style>.container { width:100% !important; }</style>"
      ],
      "text/plain": [
       "<IPython.core.display.HTML object>"
      ]
     },
     "metadata": {},
     "output_type": "display_data"
    },
    {
     "name": "stdout",
     "output_type": "stream",
     "text": [
      "converting fsavereage6 files to fsaverage\n",
      "/home/shared/2018/visual/nprf_indiv/raw_data/sub-02/sub-02_task-prf_space-fsaverage_hemi-L.func_sg_psc.gii\n",
      "/home/shared/2018/visual/nprf_indiv/raw_data/sub-02/sub-02_task-prf_space-fsaverage_hemi-R.func_sg_psc.gii\n"
     ]
    }
   ],
   "source": [
    "from IPython.core.display import display, HTML\n",
    "display(HTML(\"<style>.container { width:100% !important; }</style>\"))\n",
    "\n",
    "# Stop warnings\n",
    "# -------------\n",
    "import warnings\n",
    "warnings.filterwarnings(\"ignore\")\n",
    "\n",
    "# General imports\n",
    "# ---------------\n",
    "import os\n",
    "import sys\n",
    "import json\n",
    "import glob\n",
    "import numpy as np\n",
    "import matplotlib.pyplot as pl\n",
    "import ipdb\n",
    "import platform\n",
    "opj = os.path.join\n",
    "deb = ipdb.set_trace\n",
    "\n",
    "# MRI imports\n",
    "# -----------\n",
    "import nibabel as nb\n",
    "import cortex\n",
    "from nipype.interfaces.freesurfer import SurfaceTransform\n",
    "\n",
    "subject = 'sub-02'\n",
    "\n",
    "# Define analysis parameters\n",
    "# --------------------------\n",
    "with open('projects/retino_HCP/settings.json') as f:\n",
    "    json_s = f.read()\n",
    "    analysis_info = json.loads(json_s)\n",
    "\n",
    "# Define cluster/server specific parameters\n",
    "# -----------------------------------------\n",
    "if 'aeneas' in platform.uname()[1]:\n",
    "    base_dir = analysis_info['aeneas_base_folder'] \n",
    "elif 'lisa' in platform.uname()[1]:\n",
    "    base_dir = analysis_info['lisa_base_folder'] \n",
    "\n",
    "# convert time series to fsaverage per hemisphere\n",
    "for hemi in ['L','R']:\n",
    "    data = []\n",
    "    data_file  =  sorted(glob.glob(opj(base_dir,'raw_data',subject,\"{sub}_task-prf_space-fsaverage6_hemi-{hemi}.func_sg_psc.gii\".format(hemi = hemi, sub = subject))))\n",
    "\n",
    "# Resample gii to fsaverage\n",
    "# -------------------------\n",
    "print('converting fsavereage6 files to fsaverage')\n",
    "sxfm = SurfaceTransform()\n",
    "sxfm.inputs.source_subject = \"fsaverage6\"\n",
    "sxfm.inputs.target_subject = \"fsaverage\"\n",
    "sxfm.terminal_output = 'none'\n",
    "\n",
    "for hemi in ['L','R']:\n",
    "    sxfm.inputs.subjects_dir = opj(base_dir,'derivatives','freesurfer')\n",
    "    if hemi == 'L': sxfm.inputs.hemi = \"lh\"\n",
    "    elif hemi == 'R': sxfm.inputs.hemi = \"rh\"\n",
    "\n",
    "    sxfm.inputs.source_file = opj(base_dir,'raw_data',subject,\"{sub}_task-prf_space-fsaverage6_hemi-{hemi}.func_sg_psc.gii\".format(hemi = hemi, sub = subject))\n",
    "    sxfm.inputs.out_file = opj(base_dir,'raw_data',subject,\"{sub}_task-prf_space-fsaverage_hemi-{hemi}.func_sg_psc.gii\".format(hemi = hemi, sub = subject))\n",
    "    print(sxfm.inputs.out_file)\n",
    "    sxfm.run()    \n"
   ]
  },
  {
   "cell_type": "code",
   "execution_count": 44,
   "metadata": {},
   "outputs": [],
   "source": [
    "# Combine hemispheres\n",
    "tc_mat=[]\n",
    "for hemi in ['L','R']:\n",
    "    tc_out = opj(base_dir,'raw_data',subject,\"{sub}_task-prf_space-fsaverage_hemi-{hemi}.func_sg_psc.gii\".format(hemi = hemi, sub = subject))\n",
    "    tc_file = nb.load(tc_out)\n",
    "    exec('tc_mat_{hemi} = (np.array([tc_file.darrays[i].data for i in range(len(tc_file.darrays))]))'.format(hemi = hemi))\n",
    "    \n",
    "tc_mat = np.hstack((tc_mat_L,tc_mat_R))\n",
    "\n",
    "# save combined file\n",
    "darrays = [nb.gifti.gifti.GiftiDataArray(d) for d in tc_mat]\n",
    "gii_out = nb.gifti.gifti.GiftiImage(header = data_file_load.header, extra = data_file_load.extra, darrays = darrays)\n",
    "nb.save(gii_out,opj(base_dir,'raw_data',subject,\"{sub}_task-prf_space-fsaverage.func_sg_psc.gii\".format(hemi = hemi, sub = subject)))"
   ]
  },
  {
   "cell_type": "code",
   "execution_count": 45,
   "metadata": {},
   "outputs": [],
   "source": [
    "# load LR \n",
    "file = opj(base_dir,'raw_data',subject,\"{sub}_task-prf_space-fsaverage.func_sg_psc.gii\".format(hemi = hemi, sub = subject))\n",
    "tc_file = nb.load(file)\n",
    "tc_mat = (np.array([tc_file.darrays[i].data for i in range(len(tc_file.darrays))]))"
   ]
  },
  {
   "cell_type": "code",
   "execution_count": 46,
   "metadata": {},
   "outputs": [
    {
     "name": "stdout",
     "output_type": "stream",
     "text": [
      "Started server on port 33334\n"
     ]
    },
    {
     "data": {
      "text/plain": [
       "<JS: window.viewer>"
      ]
     },
     "execution_count": 46,
     "metadata": {},
     "output_type": "execute_result"
    }
   ],
   "source": [
    "vert = cortex.Vertex(data = tc_mat, subject='fsaverage', vmin=-2.0, vmax=2.0,with_curvature = True,with_labels = True, alpha = 0.5,curvature_brightness = 0.95,curvature_contrast = 0.05)\n",
    "ds = cortex.Dataset(time_course = vert)\n",
    "cortex.webgl.show(ds, with_labels=True, with_rois=True,with_label = True,with_curvature = True,curvature_brightness = 0.95,curvature_contrast = 0.05,port=33334)"
   ]
  },
  {
   "cell_type": "code",
   "execution_count": null,
   "metadata": {},
   "outputs": [],
   "source": []
  }
 ],
 "metadata": {
  "kernelspec": {
   "display_name": "Python 2",
   "language": "python",
   "name": "python2"
  },
  "language_info": {
   "codemirror_mode": {
    "name": "ipython",
    "version": 2
   },
   "file_extension": ".py",
   "mimetype": "text/x-python",
   "name": "python",
   "nbconvert_exporter": "python",
   "pygments_lexer": "ipython2",
   "version": "2.7.14"
  }
 },
 "nbformat": 4,
 "nbformat_minor": 2
}
