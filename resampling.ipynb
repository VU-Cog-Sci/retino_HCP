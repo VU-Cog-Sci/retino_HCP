{
 "cells": [
  {
   "cell_type": "code",
   "execution_count": 10,
   "metadata": {},
   "outputs": [],
   "source": [
    "import nibabel as nb\n",
    "import numpy as np\n",
    "import nilearn.image as nil"
   ]
  },
  {
   "cell_type": "code",
   "execution_count": 6,
   "metadata": {},
   "outputs": [],
   "source": [
    "img_right = nb.load('/home/shared/2018/visual/subcortical_hcp/raw_data/surfaces/pauli_atlas/MNI152_T1_1mm_brain_mask_R.nii.gz')\n",
    "img_left = nb.load('/home/shared/2018/visual/subcortical_hcp/raw_data/surfaces/pauli_atlas/MNI152_T1_1mm_brain_mask_L.nii.gz')\n",
    "img_hcp = nb.load('/home/shared/2018/visual/subcortical_hcp/pp_data/999999_bars_lisa//gauss/deriv/all/prf_deriv_subcortical_all.nii.gz')\n",
    "target_affine = img_hcp.affine\n",
    "target_shape = img_hcp.shape[:-1]"
   ]
  },
  {
   "cell_type": "code",
   "execution_count": 68,
   "metadata": {},
   "outputs": [],
   "source": [
    "img_right_resample = nil.resample_img(img_right, target_affine=target_affine, target_shape=target_shape, interpolation='nearest', copy=True, order='F', clip=True)\n",
    "img_right_resample.to_filename('/home/shared/2018/visual/subcortical_hcp/raw_data/surfaces/pauli_atlas/MNI152_T1_1mm_brain_mask_R_resample.nii.gz')"
   ]
  },
  {
   "cell_type": "code",
   "execution_count": 69,
   "metadata": {},
   "outputs": [],
   "source": [
    "img_left_resample = nil.resample_img(img_left, target_affine=target_affine, target_shape=target_shape, interpolation='nearest', copy=True, order='F', clip=True)\n",
    "img_left_resample.to_filename('/home/shared/2018/visual/subcortical_hcp/raw_data/surfaces/pauli_atlas/MNI152_T1_1mm_brain_mask_L_resample.nii.gz')"
   ]
  },
  {
   "cell_type": "code",
   "execution_count": 4,
   "metadata": {},
   "outputs": [],
   "source": [
    "juelich_atlas = nb.load('/home/shared/2018/visual/subcortical_hcp/raw_data/surfaces/juelich_atlas/Juelich-prob-1mm.nii.gz')"
   ]
  },
  {
   "cell_type": "code",
   "execution_count": 11,
   "metadata": {},
   "outputs": [],
   "source": [
    "img_juelich_atlas_resample = nil.resample_img(juelich_atlas, target_affine=target_affine, target_shape=target_shape, interpolation='nearest', copy=True, order='F', clip=True)\n",
    "img_juelich_atlas_resample.to_filename('/home/shared/2018/visual/subcortical_hcp/raw_data/surfaces/juelich_atlas/Juelich-prob-1mm_resample.nii.gz')"
   ]
  },
  {
   "cell_type": "code",
   "execution_count": 16,
   "metadata": {},
   "outputs": [],
   "source": [
    "list_area = [   \"hippocampus_cornu_ammonis_L\",\n",
    "                \"hippocampus_cornu_ammonis_R\",\n",
    "                \"hippocampus_entorhinal_cortex_L\",\n",
    "                \"hippocampus_entorhinal_cortex_R\",\n",
    "                \"hippocampus_dentate_gyrus_L\",\n",
    "                \"hippocampus_dentate_gyrus_R\",\n",
    "                \"hippocampus_hippocampal_amygdaloid_transition_area_L\",\n",
    "                \"hippocampus_hippocampal_amygdaloid_transition_area_R\",\n",
    "                \"hippocampus_subiculum_L\",\n",
    "                \"hippocampus_subiculum_R\",\n",
    "                \"amygdala_centromedial_group_L\",\n",
    "                \"amygdala_centromedial_group_R\",\n",
    "                \"amygdala_laterobasal_group_L\",\n",
    "                \"amygdala_laterobasal_group_R\",\n",
    "                \"amygdala_superficial_group_L\",\n",
    "                \"amygdala_superficial_group_R\"]\n",
    "index_area = [  16,17,18,19,20,21,22,23,24,25,6,7,8,9,10,11]"
   ]
  },
  {
   "cell_type": "code",
   "execution_count": 17,
   "metadata": {},
   "outputs": [],
   "source": [
    "juelich_atlas_resamp = nb.load('/home/shared/2018/visual/subcortical_hcp/raw_data/surfaces/juelich_atlas/Juelich-prob-1mm_resample.nii.gz')"
   ]
  },
  {
   "cell_type": "code",
   "execution_count": 18,
   "metadata": {},
   "outputs": [],
   "source": [
    "juelich_atlas_resamp_data = juelich_atlas_resamp.get_data()"
   ]
  },
  {
   "cell_type": "code",
   "execution_count": 30,
   "metadata": {},
   "outputs": [
    {
     "name": "stdout",
     "output_type": "stream",
     "text": [
      "area: hippocampus_cornu_ammonis_L\tindex = 16\n",
      "/home/shared/2018/visual/subcortical_hcp/raw_data/surfaces/juelich_atlas/Juelich-prob-1mm_resample_hippocampus_cornu_ammonis_L.nii.gz\n",
      "area: hippocampus_cornu_ammonis_R\tindex = 17\n",
      "/home/shared/2018/visual/subcortical_hcp/raw_data/surfaces/juelich_atlas/Juelich-prob-1mm_resample_hippocampus_cornu_ammonis_R.nii.gz\n",
      "area: hippocampus_entorhinal_cortex_L\tindex = 18\n",
      "/home/shared/2018/visual/subcortical_hcp/raw_data/surfaces/juelich_atlas/Juelich-prob-1mm_resample_hippocampus_entorhinal_cortex_L.nii.gz\n",
      "area: hippocampus_entorhinal_cortex_R\tindex = 19\n",
      "/home/shared/2018/visual/subcortical_hcp/raw_data/surfaces/juelich_atlas/Juelich-prob-1mm_resample_hippocampus_entorhinal_cortex_R.nii.gz\n",
      "area: hippocampus_dentate_gyrus_L\tindex = 20\n",
      "/home/shared/2018/visual/subcortical_hcp/raw_data/surfaces/juelich_atlas/Juelich-prob-1mm_resample_hippocampus_dentate_gyrus_L.nii.gz\n",
      "area: hippocampus_dentate_gyrus_R\tindex = 21\n",
      "/home/shared/2018/visual/subcortical_hcp/raw_data/surfaces/juelich_atlas/Juelich-prob-1mm_resample_hippocampus_dentate_gyrus_R.nii.gz\n",
      "area: hippocampus_hippocampal_amygdaloid_transition_area_L\tindex = 22\n",
      "/home/shared/2018/visual/subcortical_hcp/raw_data/surfaces/juelich_atlas/Juelich-prob-1mm_resample_hippocampus_hippocampal_amygdaloid_transition_area_L.nii.gz\n",
      "area: hippocampus_hippocampal_amygdaloid_transition_area_R\tindex = 23\n",
      "/home/shared/2018/visual/subcortical_hcp/raw_data/surfaces/juelich_atlas/Juelich-prob-1mm_resample_hippocampus_hippocampal_amygdaloid_transition_area_R.nii.gz\n",
      "area: hippocampus_subiculum_L\tindex = 24\n",
      "/home/shared/2018/visual/subcortical_hcp/raw_data/surfaces/juelich_atlas/Juelich-prob-1mm_resample_hippocampus_subiculum_L.nii.gz\n",
      "area: hippocampus_subiculum_R\tindex = 25\n",
      "/home/shared/2018/visual/subcortical_hcp/raw_data/surfaces/juelich_atlas/Juelich-prob-1mm_resample_hippocampus_subiculum_R.nii.gz\n",
      "area: amygdala_centromedial_group_L\tindex = 6\n",
      "/home/shared/2018/visual/subcortical_hcp/raw_data/surfaces/juelich_atlas/Juelich-prob-1mm_resample_amygdala_centromedial_group_L.nii.gz\n",
      "area: amygdala_centromedial_group_R\tindex = 7\n",
      "/home/shared/2018/visual/subcortical_hcp/raw_data/surfaces/juelich_atlas/Juelich-prob-1mm_resample_amygdala_centromedial_group_R.nii.gz\n",
      "area: amygdala_laterobasal_group_L\tindex = 8\n",
      "/home/shared/2018/visual/subcortical_hcp/raw_data/surfaces/juelich_atlas/Juelich-prob-1mm_resample_amygdala_laterobasal_group_L.nii.gz\n",
      "area: amygdala_laterobasal_group_R\tindex = 9\n",
      "/home/shared/2018/visual/subcortical_hcp/raw_data/surfaces/juelich_atlas/Juelich-prob-1mm_resample_amygdala_laterobasal_group_R.nii.gz\n",
      "area: amygdala_superficial_group_L\tindex = 10\n",
      "/home/shared/2018/visual/subcortical_hcp/raw_data/surfaces/juelich_atlas/Juelich-prob-1mm_resample_amygdala_superficial_group_L.nii.gz\n",
      "area: amygdala_superficial_group_R\tindex = 11\n",
      "/home/shared/2018/visual/subcortical_hcp/raw_data/surfaces/juelich_atlas/Juelich-prob-1mm_resample_amygdala_superficial_group_R.nii.gz\n"
     ]
    }
   ],
   "source": [
    "for area,index in zip(list_area,index_area):\n",
    "    print(\"area: {area_txt}\\tindex = {index_num}\".format(area_txt= area, index_num = index))\n",
    "    juelich_atlas_area = []\n",
    "    juelich_atlas_area = juelich_atlas_resamp_data[:,:,:,index]\n",
    "\n",
    "    img = nb.Nifti1Image(dataobj = juelich_atlas_area,\n",
    "                         affine = juelich_atlas_resamp.affine,\n",
    "                         header = juelich_atlas_resamp.header)\n",
    "    \n",
    "    opfn = \"/home/shared/2018/visual/subcortical_hcp/raw_data/surfaces/juelich_atlas/Juelich-prob-1mm_resample_{area_txt}.nii.gz\".format(area_txt= area)\n",
    "    print(opfn)\n",
    "    img.to_filename(opfn)"
   ]
  },
  {
   "cell_type": "code",
   "execution_count": 26,
   "metadata": {},
   "outputs": [
    {
     "data": {
      "text/plain": [
       "(113, 136, 113)"
      ]
     },
     "execution_count": 26,
     "metadata": {},
     "output_type": "execute_result"
    }
   ],
   "source": [
    "juelich_atlas_area.shape"
   ]
  },
  {
   "cell_type": "code",
   "execution_count": null,
   "metadata": {},
   "outputs": [],
   "source": []
  }
 ],
 "metadata": {
  "kernelspec": {
   "display_name": "Python 3",
   "language": "python",
   "name": "python3"
  },
  "language_info": {
   "codemirror_mode": {
    "name": "ipython",
    "version": 3
   },
   "file_extension": ".py",
   "mimetype": "text/x-python",
   "name": "python",
   "nbconvert_exporter": "python",
   "pygments_lexer": "ipython3",
   "version": "3.6.3"
  }
 },
 "nbformat": 4,
 "nbformat_minor": 2
}
