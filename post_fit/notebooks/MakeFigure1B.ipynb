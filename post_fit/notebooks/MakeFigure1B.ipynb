{
 "cells": [
  {
   "cell_type": "code",
   "execution_count": 29,
   "metadata": {},
   "outputs": [
    {
     "data": {
      "text/html": [
       "<style>.container { width:100% !important; }</style>"
      ],
      "text/plain": [
       "<IPython.core.display.HTML object>"
      ]
     },
     "metadata": {},
     "output_type": "display_data"
    }
   ],
   "source": [
    "from IPython.core.display import display, HTML\n",
    "display(HTML(\"<style>.container { width:100% !important; }</style>\"))\n",
    "\n",
    "# Stop warnings\n",
    "# -------------\n",
    "import warnings\n",
    "warnings.filterwarnings(\"ignore\")\n",
    "\n",
    "# General imports\n",
    "# ---------------\n",
    "import os\n",
    "import sys\n",
    "import json\n",
    "import glob\n",
    "import numpy as np\n",
    "import matplotlib.pyplot as plt\n",
    "import matplotlib.colors as colors\n",
    "import matplotlib.colors as colors\n",
    "import ipdb\n",
    "import platform\n",
    "opj = os.path.join\n",
    "deb = ipdb.set_trace\n",
    "%matplotlib inline\n",
    "import time\n",
    "\n",
    "# MRI imports\n",
    "# -----------\n",
    "import nibabel as nb\n",
    "import cortex\n",
    "\n",
    "subject = '999999'\n",
    "\n",
    "# Define analysis parameters\n",
    "# --------------------------\n",
    "with open('../../settings.json') as f:\n",
    "    json_s = f.read()\n",
    "    analysis_info = json.loads(json_s)\n",
    "\n",
    "# Define cluster/server specific parameters\n",
    "# -----------------------------------------\n",
    "if 'aeneas' in platform.uname()[1]:\n",
    "    base_dir = analysis_info['aeneas_base_folder']\n",
    "elif 'local' in platform.uname()[1]:\n",
    "    base_dir = analysis_info['local_base_folder']\n",
    "\n",
    "fit_model = 'gauss'\n",
    "deriv_dir = opj(base_dir,'pp_data',subject,fit_model,'deriv')\n",
    "\n",
    "# Create derivatives flatmaps\n",
    "# ---------------------------\n",
    "cmap_neg_pos = 'RdBu_r_alpha'#'BuBkRd'#'RdBu_r'\n",
    "sign_idx, rsq_idx, ecc_idx, polar_real_idx, polar_imag_idx , size_idx, \\\n",
    "            non_lin_idx, amp_idx, baseline_idx, cov_idx, x_idx, y_idx = 0,1,2,3,4,5,6,7,8,9,10,11\n",
    "mask_dir  = 'all'\n",
    "\n",
    "# Get data and combine hemispheres\n",
    "deriv_mat=[]\n",
    "for hemi in ['L','R']:\n",
    "    deriv_file = nb.load(opj(deriv_dir,mask_dir,\"prf_deriv_{hemi}_{mask_dir}_fsaverage.func.gii\".format(hemi = hemi, mask_dir = mask_dir)))\n",
    "    deriv_mat.append(np.array([deriv_file.darrays[i].data for i in range(len(deriv_file.darrays))]))\n",
    "deriv_mat = np.hstack(deriv_mat)\n",
    "deriv_mat = deriv_mat.T"
   ]
  },
  {
   "cell_type": "code",
   "execution_count": null,
   "metadata": {},
   "outputs": [],
   "source": [
    "# R-square\n",
    "rsq_data = deriv_mat[:,rsq_idx]\n",
    "\n",
    "sign_data = deriv_mat[:,sign_idx]\n",
    "sign_data = np.sign(sign_data)*rsq_data\n",
    "norm_sign_data = (sign_data - np.nanmin(sign_data))/(np.nanmax(sign_data)-np.nanmin(sign_data))\n"
   ]
  },
  {
   "cell_type": "code",
   "execution_count": null,
   "metadata": {},
   "outputs": [],
   "source": [
    "vertex_2d = cortex.Vertex2D(  dim1 = norm_sign_data, \n",
    "                              dim2 = rsq_data,\n",
    "                              description = '2d',\n",
    "                              subject = 'fsaverage', \n",
    "                              cmap = 'RdBu_r_alpha', \n",
    "                              vmin = 0,\n",
    "                              vmax = 1,\n",
    "                              vmin2 = 0,\n",
    "                              vmax2 = 1,\n",
    "                         )\n",
    "vertex2 = cortex.quickshow(braindata = vertex_2d)"
   ]
  },
  {
   "cell_type": "code",
   "execution_count": null,
   "metadata": {},
   "outputs": [],
   "source": [
    "handle = cortex.webgl.show(data=vertex_2d, recache=True, port=13001)"
   ]
  },
  {
   "cell_type": "code",
   "execution_count": null,
   "metadata": {},
   "outputs": [],
   "source": [
    "handle"
   ]
  },
  {
   "cell_type": "code",
   "execution_count": null,
   "metadata": {},
   "outputs": [],
   "source": [
    "# to set manually\n",
    "# take out roi\n",
    "# curvature brightness: 0.3\n",
    "# curvature contrast: 0.3\n",
    "# curvature smoothness: 0.1\n",
    "\n",
    "flat = {'camera.altitude':0,\n",
    "        'camera.azimuth':180,\n",
    "        'camera.radius':300,\n",
    "        'surface.{subject}.depth':1,\n",
    "        'surface.{subject}.unfold':1, # 0 for reset 1 for flat\n",
    "        'surface.{subject}.specularity':0,\n",
    "                            }\n",
    "handle._set_view(**flat)\n",
    "time.sleep(5)\n",
    "handle.getImage('/Users/martin/Dropbox/Data/Manuscript/2018/Szinte_vanEs_Knapen/flat.png',size = (3840, 2160))"
   ]
  },
  {
   "cell_type": "code",
   "execution_count": null,
   "metadata": {},
   "outputs": [],
   "source": [
    "left_hemi_lateral_inflated = {'camera.altitude':90,\n",
    "                             'camera.azimuth':90,\n",
    "                             'camera.radius':300,\n",
    "                             'surface.{subject}.unfold':0.5, # 0 for reset 1 for flat\n",
    "                             'surface.{subject}.depth':1,\n",
    "                              'surface.{subject}.left':True,\n",
    "                             'surface.{subject}.right':False,\n",
    "                             'surface.{subject}.specularity':0,\n",
    "                            }\n",
    "handle._set_view(**left_hemi_lateral_inflated)\n",
    "time.sleep(5)\n",
    "handle.getImage('/Users/martin/Dropbox/Data/Manuscript/2018/Szinte_vanEs_Knapen/left_lateral_inflated.png',size = (3840, 2160))"
   ]
  },
  {
   "cell_type": "code",
   "execution_count": null,
   "metadata": {},
   "outputs": [],
   "source": [
    "left_hemi_lateral = {'camera.altitude':90,\n",
    "                     'camera.azimuth':90,\n",
    "                     'camera.radius':300,\n",
    "                     'surface.{subject}.unfold':0, # 0 for reset 1 for flat\n",
    "                     'surface.{subject}.depth':1,\n",
    "                     'surface.{subject}.left':True,\n",
    "                     'surface.{subject}.right':False,\n",
    "                     'surface.{subject}.specularity':0,\n",
    "                    }\n",
    "handle._set_view(**left_hemi_lateral)\n",
    "time.sleep(5)\n",
    "handle.getImage('/Users/martin/Dropbox/Data/Manuscript/2018/Szinte_vanEs_Knapen/left_lateral.png',size = (3840, 2160))"
   ]
  },
  {
   "cell_type": "code",
   "execution_count": null,
   "metadata": {},
   "outputs": [],
   "source": [
    "left_hemi_medial_inflated = {'camera.altitude':90,\n",
    "                             'camera.azimuth':270,\n",
    "                             'camera.radius':300,\n",
    "                             'surface.{subject}.unfold':0.5, # 0 for reset 1 for flat\n",
    "                             'surface.{subject}.depth':1,\n",
    "                             'surface.{subject}.left':True,\n",
    "                             'surface.{subject}.right':False,\n",
    "                             'surface.{subject}.specularity':0,\n",
    "                            }\n",
    "handle._set_view(**left_hemi_medial_inflated)\n",
    "time.sleep(5)\n",
    "handle.getImage('/Users/martin/Dropbox/Data/Manuscript/2018/Szinte_vanEs_Knapen/left_medial_inflated.png',size = (3840, 2160))"
   ]
  },
  {
   "cell_type": "code",
   "execution_count": null,
   "metadata": {},
   "outputs": [],
   "source": [
    "left_hemi_medial = {'camera.altitude':90,\n",
    "                     'camera.azimuth':270,\n",
    "                     'camera.radius':300,\n",
    "                     'surface.{subject}.unfold':0, # 0 for reset 1 for flat\n",
    "                     'surface.{subject}.depth':1,\n",
    "                     'surface.{subject}.left':True,\n",
    "                     'surface.{subject}.right':False,\n",
    "                     'surface.{subject}.specularity':0,\n",
    "                    }\n",
    "\n",
    "handle._set_view(**left_hemi_medial)\n",
    "time.sleep(5)\n",
    "handle.getImage('/Users/martin/Dropbox/Data/Manuscript/2018/Szinte_vanEs_Knapen/left_medial.png',size = (3840, 2160))"
   ]
  },
  {
   "cell_type": "code",
   "execution_count": null,
   "metadata": {},
   "outputs": [],
   "source": [
    "right_hemi_lateral = {'camera.altitude':90,\n",
    "                     'camera.azimuth':270,\n",
    "                     'camera.radius':300,\n",
    "                     'surface.{subject}.unfold':0, # 0 for reset 1 for flat\n",
    "                     'surface.{subject}.depth':1,\n",
    "                     'surface.{subject}.left':False,\n",
    "                     'surface.{subject}.right':True,\n",
    "                     'surface.{subject}.specularity':0,\n",
    "                    }\n",
    "\n",
    "handle._set_view(**right_hemi_lateral)\n",
    "time.sleep(5)\n",
    "handle.getImage('/Users/martin/Dropbox/Data/Manuscript/2018/Szinte_vanEs_Knapen/right_lateral.png',size = (3840, 2160))"
   ]
  },
  {
   "cell_type": "code",
   "execution_count": null,
   "metadata": {},
   "outputs": [],
   "source": [
    "right_hemi_lateral_inflated = {  'camera.altitude':90,\n",
    "                                 'camera.azimuth':270,\n",
    "                                 'camera.radius':300,\n",
    "                                 'surface.{subject}.unfold':0.5, # 0 for reset 1 for flat\n",
    "                                 'surface.{subject}.depth':1,\n",
    "                                 'surface.{subject}.left':False,\n",
    "                                 'surface.{subject}.right':True,\n",
    "                                 'surface.{subject}.specularity':0,\n",
    "                                }\n",
    "\n",
    "handle._set_view(**right_hemi_lateral_inflated)\n",
    "time.sleep(5)\n",
    "handle.getImage('/Users/martin/Dropbox/Data/Manuscript/2018/Szinte_vanEs_Knapen/right_lateral_inflated.png',size = (3840, 2160))"
   ]
  },
  {
   "cell_type": "code",
   "execution_count": null,
   "metadata": {},
   "outputs": [],
   "source": [
    "right_hemi_medial = {'camera.altitude':90,\n",
    "                     'camera.azimuth':90,\n",
    "                     'camera.radius':300,\n",
    "                     'surface.{subject}.unfold':0, # 0 for reset 1 for flat\n",
    "                     'surface.{subject}.depth':1,\n",
    "                     'surface.{subject}.left':False,\n",
    "                     'surface.{subject}.right':True,\n",
    "                     'surface.{subject}.specularity':0,\n",
    "                    }\n",
    "handle._set_view(**right_hemi_medial)\n",
    "time.sleep(5)\n",
    "handle.getImage('/Users/martin/Dropbox/Data/Manuscript/2018/Szinte_vanEs_Knapen/right_medial.png',size = (3840, 2160))"
   ]
  },
  {
   "cell_type": "code",
   "execution_count": null,
   "metadata": {},
   "outputs": [],
   "source": [
    "right_hemi_medial_inflated = {   'camera.altitude':90,\n",
    "                                 'camera.azimuth':90,\n",
    "                                 'camera.radius':300,\n",
    "                                 'surface.{subject}.unfold':0.5, # 0 for reset 1 for flat\n",
    "                                 'surface.{subject}.depth':1,\n",
    "                                 'surface.{subject}.left':False,\n",
    "                                 'surface.{subject}.right':True,\n",
    "                                 'surface.{subject}.specularity':0,\n",
    "                                }\n",
    "handle._set_view(**right_hemi_medial_inflated)\n",
    "time.sleep(5)\n",
    "handle.getImage('/Users/martin/Dropbox/Data/Manuscript/2018/Szinte_vanEs_Knapen/right_medial_inflated.png',size = (3840, 2160))"
   ]
  },
  {
   "cell_type": "code",
   "execution_count": null,
   "metadata": {},
   "outputs": [],
   "source": [
    "dorsal_inflated = {   'camera.altitude':90,\n",
    "                      'camera.azimuth':180,\n",
    "                      'camera.radius':300,\n",
    "                      'surface.{subject}.unfold':0.5, # 0 for reset 1 for flat\n",
    "                      'surface.{subject}.left':True,\n",
    "                      'surface.{subject}.depth':1,\n",
    "                      'surface.{subject}.right':True,\n",
    "                      'surface.{subject}.specularity':0.2,\n",
    "                                }\n",
    "handle._set_view(**dorsal_inflated)\n",
    "time.sleep(5)\n",
    "handle.getImage('/Users/martin/Dropbox/Data/Manuscript/2018/Szinte_vanEs_Knapen/dorsal_inflated.png',size = (3840, 2160))"
   ]
  },
  {
   "cell_type": "code",
   "execution_count": 154,
   "metadata": {},
   "outputs": [
    {
     "data": {
      "image/png": "[encoded data removed]",
      "text/plain": [
       "<Figure size 432x288 with 1 Axes>"
      ]
     },
     "metadata": {},
     "output_type": "display_data"
    }
   ],
   "source": [
    "# create colorscale\n",
    "import matplotlib.pyplot as plt\n",
    "import matplotlib.colors as colors\n",
    "import matplotlib.image as mpimg\n",
    "from matplotlib import cm\n",
    "import matplotlib as mpl\n",
    "import ipdb\n",
    "deb = ipdb.set_trace\n",
    "\n",
    "cmap = 'RdBu_r_alpha'\n",
    "cmap_png_file = \"{base_dir}/pp_data/cortex/colormaps/{cmap}.png\".format(base_dir = base_dir, cmap = cmap)\n",
    "img = mpimg.imread(cmap_png_file)\n",
    "plt.imshow(img)\n",
    "plt.show()"
   ]
  },
  {
   "cell_type": "code",
   "execution_count": 240,
   "metadata": {},
   "outputs": [
    {
     "data": {
      "text/plain": [
       "<matplotlib.colors.ListedColormap at 0x10606a390>"
      ]
     },
     "execution_count": 240,
     "metadata": {},
     "output_type": "execute_result"
    }
   ],
   "source": [
    "base = cortex.utils.get_cmap('jet')\n",
    "val = np.fmod(np.linspace(0, 1,256,endpoint=False),1.0)\n",
    "colmap = colors.LinearSegmentedColormap.from_list(  'my_colmap',\n",
    "                                                    base(val),\n",
    "                                                    N = 256)\n",
    "base"
   ]
  },
  {
   "cell_type": "code",
   "execution_count": 102,
   "metadata": {},
   "outputs": [],
   "source": [
    "new_col = np.zeros((256,4))\n",
    "for t_step in np.arange(0,128,1):\n",
    "    new_col[t_step,0:4] = img[t_step,t_step*2]\n",
    "    \n",
    "for t_step in np.arange(128,256,1):\n",
    "    new_col[t_step,0:4] = img[t_step,256-(t_step-128)*2]\n",
    "    "
   ]
  },
  {
   "cell_type": "code",
   "execution_count": 262,
   "metadata": {},
   "outputs": [
    {
     "data": {
      "text/plain": [
       "<matplotlib.collections.PathCollection at 0xa33458860>"
      ]
     },
     "execution_count": 262,
     "metadata": {},
     "output_type": "execute_result"
    },
    {
     "data": {
      "image/png": "[encoded data removed]",
      "text/plain": [
       "<Figure size 432x288 with 1 Axes>"
      ]
     },
     "metadata": {},
     "output_type": "display_data"
    }
   ],
   "source": [
    "a = np.linspace(0,255,128)\n",
    "b = a[::-1]\n",
    "c = np.hstack([a,b])\n",
    "d = np.linspace(0,255,256)\n",
    "\n",
    "col_new = []\n",
    "for t in np.arange(0,256,1):\n",
    "    val_y = int(d[t])\n",
    "    val_x = int(c[t])\n",
    "    col = img[val_x,val_y]\n",
    "    col_new.append(img[val_x,val_y])\n",
    "#     print(val_x,val_y,col)\n",
    "\n",
    "col_new = np.vstack(col_new)\n",
    "plt.scatter(np.linspace(0,256,256), np.linspace(0,256,256)*0+1, marker='s', c=col_new)"
   ]
  },
  {
   "cell_type": "code",
   "execution_count": 258,
   "metadata": {},
   "outputs": [
    {
     "data": {
      "text/plain": [
       "(256,)"
      ]
     },
     "execution_count": 258,
     "metadata": {},
     "output_type": "execute_result"
    }
   ],
   "source": [
    "np.vstack(col_new)"
   ]
  },
  {
   "cell_type": "code",
   "execution_count": 145,
   "metadata": {},
   "outputs": [
    {
     "data": {
      "text/plain": [
       "(256,)"
      ]
     },
     "execution_count": 145,
     "metadata": {},
     "output_type": "execute_result"
    }
   ],
   "source": [
    "np.arange(0,256,1).shape"
   ]
  },
  {
   "cell_type": "code",
   "execution_count": 152,
   "metadata": {},
   "outputs": [
    {
     "data": {
      "text/plain": [
       "array([ 0.40392157,  0.        ,  0.12156863,  1.        ], dtype=float32)"
      ]
     },
     "execution_count": 152,
     "metadata": {},
     "output_type": "execute_result"
    }
   ],
   "source": [
    "img[0,255]"
   ]
  },
  {
   "cell_type": "code",
   "execution_count": null,
   "metadata": {},
   "outputs": [],
   "source": []
  }
 ],
 "metadata": {
  "kernelspec": {
   "display_name": "Python 3",
   "language": "python",
   "name": "python3"
  },
  "language_info": {
   "codemirror_mode": {
    "name": "ipython",
    "version": 3
   },
   "file_extension": ".py",
   "mimetype": "text/x-python",
   "name": "python",
   "nbconvert_exporter": "python",
   "pygments_lexer": "ipython3",
   "version": "3.6.3"
  }
 },
 "nbformat": 4,
 "nbformat_minor": 2
}
