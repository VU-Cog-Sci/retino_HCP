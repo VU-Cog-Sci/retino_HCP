{
 "cells": [
  {
   "cell_type": "code",
   "execution_count": 1,
   "metadata": {},
   "outputs": [
    {
     "data": {
      "text/html": [
       "<style>.container { width:100% !important; }</style>"
      ],
      "text/plain": [
       "<IPython.core.display.HTML object>"
      ]
     },
     "metadata": {},
     "output_type": "display_data"
    }
   ],
   "source": [
    "from IPython.core.display import display, HTML\n",
    "display(HTML(\"<style>.container { width:100% !important; }</style>\"))\n",
    "\n",
    "# Stop warnings\n",
    "# -------------\n",
    "import warnings\n",
    "warnings.filterwarnings(\"ignore\")\n",
    "\n",
    "# General imports\n",
    "# ---------------\n",
    "import os\n",
    "import sys\n",
    "import json\n",
    "import glob\n",
    "import numpy as np\n",
    "import matplotlib.pyplot as pl\n",
    "import ipdb\n",
    "import platform\n",
    "import h5py\n",
    "import scipy.io\n",
    "opj = os.path.join\n",
    "deb = ipdb.set_trace\n",
    "\n",
    "# MRI imports\n",
    "# -----------\n",
    "import nibabel as nb\n",
    "import cortex\n",
    "\n",
    "# Bokeh imports\n",
    "# -------------\n",
    "from bokeh.io import output_notebook, show, save, output_file, export_png, export_svgs\n",
    "from bokeh.layouts import row, column, gridplot\n",
    "\n",
    "# Popeye imports\n",
    "# --------------\n",
    "import popeye.utilities as utils\n",
    "from popeye.visual_stimulus import VisualStimulus\n",
    "import popeye.css as css\n",
    "import popeye.og as og\n",
    "\n",
    "# Get inputs\n",
    "# ----------\n",
    "subject = '999999'\n",
    "fit_model = 'gauss'\n",
    "draw_hemi = 1"
   ]
  },
  {
   "cell_type": "code",
   "execution_count": 2,
   "metadata": {},
   "outputs": [],
   "source": [
    "# Define analysis parameters\n",
    "# --------------------------\n",
    "with open('../settings.json') as f:\n",
    "    json_s = f.read()\n",
    "    analysis_info = json.loads(json_s)\n",
    "    \n",
    "# Define cluster/server specific parameters\n",
    "# -----------------------------------------\n",
    "if 'aeneas' in platform.uname()[1]:\n",
    "    base_dir = analysis_info['aeneas_base_folder'] \n",
    "elif 'local' in platform.uname()[1]:\n",
    "    base_dir = analysis_info['local_base_folder'] \n",
    "    \n",
    "h5_dir = opj(base_dir,'pp_data',subject,fit_model,'h5')\n",
    "base_file_name = 'tfMRI_RETBAR1_7T_AP_Atlas_MSMAll_hp2000_clean.dtseries'\n",
    "roi_masks_dir = opj(base_dir,'pp_data',subject,fit_model,'roi_masks')\n",
    "sign_idx, rsq_idx, ecc_idx, polar_real_idx, polar_imag_idx , size_idx, \\\n",
    "            non_lin_idx, amp_idx, baseline_idx, cov_idx, x_idx, y_idx = 0,1,2,3,4,5,6,7,8,9,10,11\n",
    "    \n",
    "# Create stimulus design and define model\n",
    "visual_dm_file = scipy.io.loadmat(opj(base_dir,'raw_data','retinotopysmall5.mat'))\n",
    "visual_dm = visual_dm_file['stim']\n",
    "\n",
    "stimulus = VisualStimulus(  stim_arr = visual_dm,\n",
    "                            viewing_distance = analysis_info[\"screen_distance\"],\n",
    "                            screen_width = analysis_info[\"screen_width\"],\n",
    "                            scale_factor = 1/10.0,\n",
    "                            tr_length = analysis_info[\"TR\"],\n",
    "                            dtype = np.short)\n",
    "\n",
    "\n",
    "if fit_model == 'gauss':\n",
    "    fit_func = og.GaussianFit\n",
    "    num_est = 6\n",
    "    model_func = og.GaussianModel(  stimulus = stimulus,\n",
    "                                    hrf_model = utils.spm_hrf)\n",
    "    step_r2 = [0,50,100] # [low or high]\n",
    "    step_params = [0,50,100] # [low or high]\n",
    "    list_params = ['ecc','amp','baseline','cov']\n",
    "    num_plots = len(list_params)*len(step_params)*(len(step_r2)-1)\n",
    "    \n",
    "elif fit_model == 'css':\n",
    "    fit_func = css.CompressiveSpatialSummationFit\n",
    "    num_est = 7\n",
    "    model_func = css.CompressiveSpatialSummationModel(  stimulus = stimulus,\n",
    "                                                        hrf_model = utils.spm_hrf)\n",
    "    step_r2 = [0,50,100] # [low or high]\n",
    "    step_params = [0,50,100] # [low or high]\n",
    "    list_params = ['ecc','amp','baseline','cov','non_lin']\n",
    "    num_plots = len(list_params)*len(step_params)*(len(step_r2)-1)\n",
    "    \n",
    "model_func.hrf_delay = 0\n"
   ]
  },
  {
   "cell_type": "code",
   "execution_count": 3,
   "metadata": {},
   "outputs": [
    {
     "name": "stdout",
     "output_type": "stream",
     "text": [
      "creating bokeh time course plots\n"
     ]
    }
   ],
   "source": [
    "# Draw main analysis figure\n",
    "# -------------------------\n",
    "print('creating bokeh time course plots')\n",
    "\n",
    "# Initialize data dictionary that will save all data arrays\n",
    "\n",
    "for roi_num, roi in enumerate([\"V1\"]):\n",
    "    roi_text = roi\n",
    "\n",
    "    for mask_dir in ['pos']:#['pos','neg']:\n",
    "        deriv_mat_hemi = []\n",
    "        tc_mat_hemi = []\n",
    "        val_hemi = 0\n",
    "        for hemi in ['L']:#['L', 'R','LR']:\n",
    "            # load data\n",
    "            if hemi == 'LR':\n",
    "                deriv_mat = np.row_stack((deriv_mat_hemi[0],deriv_mat_hemi[1]))\n",
    "                draw = True\n",
    "            else:\n",
    "                # load roi masks\n",
    "                if hemi == 'L' or hemi == 'R':\n",
    "                    mask_file = opj(roi_masks_dir,\"masks_{hemi}.func.gii\".format(hemi = hemi))\n",
    "                    gii_in_mask = nb.load(mask_file)\n",
    "                    mask_mat = np.array([gii_in_mask.darrays[i].data for i in range(len(gii_in_mask.darrays))])\n",
    "\n",
    "                    # load time course of original data\n",
    "                    orig_data_file  =  sorted(glob.glob(opj(base_dir,'raw_data',subject,'*RETBAR1_7T*%s.func_bla_psc_av.gii'% hemi)))\n",
    "                    orig_data_file_load = nb.load(orig_data_file[0])\n",
    "                    orig_data = []\n",
    "                    orig_data.append(np.array([orig_data_file_load.darrays[i].data for i in range(len(orig_data_file_load.darrays))]))\n",
    "                    orig_data = np.vstack(orig_data)\n",
    "                \n",
    "                # select corresponding time course\n",
    "                mask_mat_roi = mask_mat[roi_num,:]\n",
    "                mask_mat_roi = np.round(mask_mat_roi)\n",
    "                tc_mat = orig_data[:, mask_mat_roi==1].T\n",
    "                tc_mat_hemi.append(tc_mat)\n",
    "                \n",
    "                # load derivatives\n",
    "                if hemi == 'L': val_hemi = 1\n",
    "                elif hemi == 'R': val_hemi = 2\n",
    "                folder_alias = '{hemi}_{mask_dir}'.format(hemi = hemi,mask_dir = mask_dir)\n",
    "                h5_file = h5py.File(opj(h5_dir,'{roi}.h5'.format(roi = roi_text)), \"r\")\n",
    "                in_file = opj(\"prf_deriv_{hemi}_{mask_dir}\".format(hemi = hemi, mask_dir = mask_dir))\n",
    "                deriv_mat = h5_file['{folder_alias}/{in_file}'.format(folder_alias=folder_alias,in_file=in_file)]\n",
    "                deriv_mat = np.vstack((deriv_mat,val_hemi*np.ones((1,deriv_mat.shape[1]))))\n",
    "                deriv_mat = deriv_mat[:,:].T\n",
    "                deriv_mat_hemi.append(deriv_mat)\n",
    "\n",
    "                deriv_mat[:,rsq_idx]\n",
    "#                 # create model tc\n",
    "#                 if draw_hemi == 1:\n",
    "#                     draw = True\n",
    "#                 elif draw_hemi == 0:\n",
    "#                     draw = False                "
   ]
  },
  {
   "cell_type": "code",
   "execution_count": 4,
   "metadata": {},
   "outputs": [],
   "source": [
    "# get index matrices\n",
    "prct_r2 = np.nanpercentile(a = deriv_mat[:,rsq_idx],q = step_r2)\n",
    "idx_r2 = []\n",
    "for r2_step in np.arange(0,len(step_r2)-1,1):\n",
    "    idx_r2.append(np.logical_and(deriv_mat[:,rsq_idx]>prct_r2[r2_step],deriv_mat[:,rsq_idx]<=prct_r2[r2_step+1]))\n",
    "\n",
    "for param in list_params:\n",
    "    exec('prct_{param} = np.nanpercentile(a = deriv_mat[:,{param}_idx],q = step_params)'.format(param = param))\n",
    "    exec('idx_{param} = []'.format(param = param))\n",
    "\n",
    "    for param_step in np.arange(0,len(step_params)-1,1):\n",
    "        exec('idx_{param}.append(np.logical_and(deriv_mat[:,{param}_idx]>prct_{param}[param_step],deriv_mat[:,{param}_idx]<=prct_{param}[param_step+1]))'.format(param = param))\n",
    "\n",
    "# get vertex number to draw\n",
    "for param in list_params:\n",
    "    exec('num_{param} = []'.format(param = param))\n",
    "    exec('num_{param} = []'.format(param = param))\n",
    "    for r2_step in np.arange(0,len(step_r2)-1,1):\n",
    "        for param_step in np.arange(0,len(step_params)-1,1):\n",
    "            exec('mat = np.where(np.logical_and(idx_r2[r2_step],idx_{param}[param_step]))'.format(param = param))\n",
    "            exec('num_{param}.append(mat[0][np.random.choice(len(mat[0]))])'.format(param = param))\n",
    "                    "
   ]
  },
  {
   "cell_type": "code",
   "execution_count": 82,
   "metadata": {},
   "outputs": [
    {
     "data": {
      "text/plain": [
       "[296, 63, 167, 111]"
      ]
     },
     "execution_count": 82,
     "metadata": {},
     "output_type": "execute_result"
    }
   ],
   "source": [
    "num_cov"
   ]
  },
  {
   "cell_type": "code",
   "execution_count": 5,
   "metadata": {},
   "outputs": [
    {
     "data": {
      "text/plain": [
       "[<matplotlib.lines.Line2D at 0x10636b198>]"
      ]
     },
     "execution_count": 5,
     "metadata": {},
     "output_type": "execute_result"
    },
    {
     "data": {
      "image/png": "[encoded data removed]",
      "text/plain": [
       "<matplotlib.figure.Figure at 0x10636b160>"
      ]
     },
     "metadata": {},
     "output_type": "display_data"
    }
   ],
   "source": [
    "num_vertex = num_cov[2]\n",
    "if fit_model == 'gauss':\n",
    "    tc_model_mat = model_func.generate_prediction( \n",
    "                                        x = deriv_mat[num_vertex,x_idx], \n",
    "                                        y = deriv_mat[num_vertex,y_idx], \n",
    "                                        sigma = deriv_mat[num_vertex,size_idx],\n",
    "                                        beta = deriv_mat[num_vertex,amp_idx], \n",
    "                                        baseline = deriv_mat[num_vertex,baseline_idx])\n",
    "elif fit_model == 'css':\n",
    "    tc_model_mat = model_func.generate_prediction( \n",
    "                                        x = deriv_mat[num_vertex,x_idx], \n",
    "                                        y = deriv_mat[num_vertex,y_idx], \n",
    "                                        sigma = deriv_mat[num_vertex,size_idx],\n",
    "                                        beta = deriv_mat[num_vertex,amp_idx], \n",
    "                                        n = deriv_mat[num_vertex,non_lin_idx], \n",
    "                                        baseline = deriv_mat[num_vertex,baseline_idx])\n",
    "                    \n",
    "import matplotlib.pyplot as plt\n",
    "% matplotlib inline \n",
    "plt.scatter(range(len(tc_mat[num_vertex,:])),tc_mat[num_vertex,:],s=30,c='k',zorder=2)\n",
    "plt.plot(range(len(tc_model_mat)),tc_model_mat,c='r',lw=3)\n",
    "# plt.show()"
   ]
  },
  {
   "cell_type": "code",
   "execution_count": 20,
   "metadata": {},
   "outputs": [
    {
     "ename": "UnboundLocalError",
     "evalue": "local variable 'f' referenced before assignment",
     "output_type": "error",
     "traceback": [
      "\u001b[0;31m---------------------------------------------------------------------------\u001b[0m",
      "\u001b[0;31mUnboundLocalError\u001b[0m                         Traceback (most recent call last)",
      "\u001b[0;32m<ipython-input-20-dccff473e38a>\u001b[0m in \u001b[0;36m<module>\u001b[0;34m()\u001b[0m\n\u001b[1;32m     41\u001b[0m             })\n\u001b[1;32m     42\u001b[0m \u001b[0;34m\u001b[0m\u001b[0m\n\u001b[0;32m---> 43\u001b[0;31m \u001b[0mf_pRFtc\u001b[0m \u001b[0;34m=\u001b[0m \u001b[0mplotter\u001b[0m\u001b[0;34m.\u001b[0m\u001b[0mdraw_figure\u001b[0m\u001b[0;34m(\u001b[0m\u001b[0mparameters\u001b[0m \u001b[0;34m=\u001b[0m \u001b[0mparams_pRFtc\u001b[0m\u001b[0;34m,\u001b[0m \u001b[0mplot\u001b[0m \u001b[0;34m=\u001b[0m \u001b[0;34m'tc'\u001b[0m\u001b[0;34m)\u001b[0m\u001b[0;34m\u001b[0m\u001b[0m\n\u001b[0m\u001b[1;32m     44\u001b[0m \u001b[0;34m\u001b[0m\u001b[0m\n\u001b[1;32m     45\u001b[0m \u001b[0;34m\u001b[0m\u001b[0m\n",
      "\u001b[0;32m~/disks/ae_H/projects/retino_HCP/post_fit/plot_class.py\u001b[0m in \u001b[0;36mdraw_figure\u001b[0;34m(self, parameters, plot, old_main_fig)\u001b[0m\n\u001b[1;32m   1192\u001b[0m         \u001b[0;31m# figure settings\u001b[0m\u001b[0;34m\u001b[0m\u001b[0;34m\u001b[0m\u001b[0m\n\u001b[1;32m   1193\u001b[0m         high_param_tc_fig              =   figure(                                                                  # create a figure in bokeh\n\u001b[0;32m-> 1194\u001b[0;31m                                                 \u001b[0mplot_width\u001b[0m          \u001b[0;34m=\u001b[0m   \u001b[0mself\u001b[0m\u001b[0;34m.\u001b[0m\u001b[0mp_width\u001b[0m\u001b[0;34m,\u001b[0m                               \u001b[0;31m# define figure width in pixel\u001b[0m\u001b[0;34m\u001b[0m\u001b[0m\n\u001b[0m\u001b[1;32m   1195\u001b[0m                                                 \u001b[0mplot_height\u001b[0m         \u001b[0;34m=\u001b[0m   \u001b[0mself\u001b[0m\u001b[0;34m.\u001b[0m\u001b[0mp_height\u001b[0m\u001b[0;34m/\u001b[0m\u001b[0;36m2\u001b[0m\u001b[0;34m,\u001b[0m                            \u001b[0;31m# define figure height in pixel\u001b[0m\u001b[0;34m\u001b[0m\u001b[0m\n\u001b[1;32m   1196\u001b[0m                                                 \u001b[0mx_range\u001b[0m             \u001b[0;34m=\u001b[0m   \u001b[0mself\u001b[0m\u001b[0;34m.\u001b[0m\u001b[0mx_range\u001b[0m\u001b[0;34m,\u001b[0m                               \u001b[0;31m# define x limits\u001b[0m\u001b[0;34m\u001b[0m\u001b[0m\n",
      "\u001b[0;31mUnboundLocalError\u001b[0m: local variable 'f' referenced before assignment"
     ]
    }
   ],
   "source": [
    "from __future__ import division, print_function\n",
    "# Bokeh import\n",
    "# ------------\n",
    "from bokeh.plotting import figure \n",
    "from bokeh.models import ColumnDataSource\n",
    "from bokeh.models.tools import HoverTool\n",
    "from bokeh.models.annotations import Span, Label\n",
    "from bokeh.layouts import row, column, gridplot\n",
    "from bokeh.models import BoxZoomTool, BoxSelectTool, Spacer, WheelZoomTool, PanTool, ResetTool\n",
    "from bokeh.models.glyphs import Text\n",
    "from bokeh.models.mappers import LinearColorMapper\n",
    "\n",
    "# Other imports\n",
    "# -------------\n",
    "import numpy as np\n",
    "import cortex\n",
    "import matplotlib.colors as colors\n",
    "import scipy as sy\n",
    "import numpy as np\n",
    "import ipdb\n",
    "deb = ipdb.set_trace\n",
    "\n",
    "from popeye.spinach import generate_og_receptive_fields\n",
    "from IPython import embed as shell\n",
    "\n",
    "# figure settings\n",
    "high_param_tc_fig              =   figure(                                                                  # create a figure in bokeh\n",
    "                                        plot_width          =   self.p_width,                               # define figure width in pixel\n",
    "                                        plot_height         =   self.p_height/2,                            # define figure height in pixel\n",
    "                                        x_range             =   self.x_range,                               # define x limits\n",
    "                                        y_range             =   self.y_range,                               # define y limits\n",
    "                                        min_border_left     =   self.min_border_large,                      # define left border size\n",
    "                                        min_border_right    =   self.min_border_large,                      # define right border size\n",
    "                                        min_border_bottom   =   self.min_border_large,                      # define bottom border space\n",
    "                                        min_border_top      =   self.min_border_large,                      # define top border space\n",
    "                                        tools               =   \"\")                                         # define tools to show\n",
    "\n",
    "high_param_map_fig              =   figure(                                                                 # create a figure in bokeh\n",
    "                                        plot_width          =   self.p_height/2,                            # define figure width in pixel\n",
    "                                        plot_height         =   self.p_height/2,                            # define figure height in pixel\n",
    "                                        x_range             =   self.x_range,                               # define x limits\n",
    "                                        y_range             =   self.y_range,                               # define y limits\n",
    "                                        min_border_left     =   self.min_border_large,                      # define left border size\n",
    "                                        min_border_right    =   self.min_border_large,                      # define right border size\n",
    "                                        min_border_bottom   =   self.min_border_large,                      # define bottom border space\n",
    "                                        min_border_top      =   self.min_border_large,                      # define top border space\n",
    "                                        tools               =   \"\")                                         # define tools to show\n",
    "\n",
    "low_param_tc_fig              =   figure(                                                                   # create a figure in bokeh\n",
    "                                        plot_width          =   self.p_width,                               # define figure width in pixel\n",
    "                                        plot_height         =   self.p_height/2,                            # define figure height in pixel\n",
    "                                        x_range             =   self.x_range,                               # define x limits\n",
    "                                        y_range             =   self.y_range,                               # define y limits\n",
    "                                        min_border_left     =   self.min_border_large,                      # define left border size\n",
    "                                        min_border_right    =   self.min_border_large,                      # define right border size\n",
    "                                        min_border_bottom   =   self.min_border_large,                      # define bottom border space\n",
    "                                        min_border_top      =   self.min_border_large,                      # define top border space\n",
    "                                        tools               =   \"\")                                         # define tools to show\n",
    "\n",
    "low_param_map_fig              =   figure(                                                                  # create a figure in bokeh\n",
    "                                        plot_width          =   self.p_height/2,                            # define figure width in pixel\n",
    "                                        plot_height         =   self.p_height/2,                            # define figure height in pixel\n",
    "                                        x_range             =   self.x_range,                               # define x limits\n",
    "                                        y_range             =   self.y_range,                               # define y limits\n",
    "                                        min_border_left     =   self.min_border_large,                      # define left border size\n",
    "                                        min_border_right    =   self.min_border_large,                      # define right border size\n",
    "                                        min_border_bottom   =   self.min_border_large,                      # define bottom border space\n",
    "                                        min_border_top      =   self.min_border_large,                      # define top border space\n",
    "                                        tools               =   \"\")                                         # define tools to show\n",
    "\n",
    "# up space\n",
    "s1 = Spacer(width=int(self.p_width), height=int(self.p_height/4))\n",
    "s2 = Spacer(width=int(self.p_height), height=int(self.p_height/4))\n",
    "\n",
    "# Put figure together\n",
    "# -------------------\n",
    "f                               =   column(                                                                 # define figures coluns\n",
    "                                        row(s1,s2),                                                         # define figure first row\n",
    "                                        row(high_param_tc_fig,high_param_map_fig),                          # define figure second row\n",
    "                                        row(low_param_tc_fig,low_param_map_fig))                           # define figure second row\n",
    "\n",
    "\n",
    "\n"
   ]
  },
  {
   "cell_type": "code",
   "execution_count": null,
   "metadata": {},
   "outputs": [],
   "source": []
  }
 ],
 "metadata": {
  "kernelspec": {
   "display_name": "Python 3",
   "language": "python",
   "name": "python3"
  },
  "language_info": {
   "codemirror_mode": {
    "name": "ipython",
    "version": 3
   },
   "file_extension": ".py",
   "mimetype": "text/x-python",
   "name": "python",
   "nbconvert_exporter": "python",
   "pygments_lexer": "ipython3",
   "version": "3.6.3"
  }
 },
 "nbformat": 4,
 "nbformat_minor": 2
}
