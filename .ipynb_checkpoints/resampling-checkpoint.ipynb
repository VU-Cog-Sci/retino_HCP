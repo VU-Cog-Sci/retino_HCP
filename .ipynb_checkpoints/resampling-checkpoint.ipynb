{
 "cells": [
  {
   "cell_type": "code",
   "execution_count": 34,
   "metadata": {},
   "outputs": [],
   "source": [
    "import nibabel as nb\n",
    "import numpy as np"
   ]
  },
  {
   "cell_type": "code",
   "execution_count": 67,
   "metadata": {},
   "outputs": [],
   "source": [
    "img_right = nb.load('/home/shared/2018/visual/subcortical_hcp/raw_data/surfaces/pauli_atlas/MNI152_T1_1mm_brain_mask_R.nii.gz')\n",
    "img_left = nb.load('/home/shared/2018/visual/subcortical_hcp/raw_data/surfaces/pauli_atlas/MNI152_T1_1mm_brain_mask_L.nii.gz')\n",
    "img_hcp = nb.load('/home/shared/2018/visual/subcortical_hcp/pp_data/999999/gauss/deriv/all/prf_deriv_subcortical_all.nii.gz')\n",
    "target_affine = img_hcp.affine\n",
    "target_shape = img_hcp.shape[:-1]"
   ]
  },
  {
   "cell_type": "code",
   "execution_count": 68,
   "metadata": {},
   "outputs": [],
   "source": [
    "img_right_resample = nil.resample_img(img_right, target_affine=target_affine, target_shape=target_shape, interpolation='nearest', copy=True, order='F', clip=True)\n",
    "img_right_resample.to_filename('/home/shared/2018/visual/subcortical_hcp/raw_data/surfaces/pauli_atlas/MNI152_T1_1mm_brain_mask_R_resample.nii.gz')"
   ]
  },
  {
   "cell_type": "code",
   "execution_count": 69,
   "metadata": {},
   "outputs": [],
   "source": [
    "img_left_resample = nil.resample_img(img_left, target_affine=target_affine, target_shape=target_shape, interpolation='nearest', copy=True, order='F', clip=True)\n",
    "img_left_resample.to_filename('/home/shared/2018/visual/subcortical_hcp/raw_data/surfaces/pauli_atlas/MNI152_T1_1mm_brain_mask_L_resample.nii.gz')"
   ]
  },
  {
   "cell_type": "code",
   "execution_count": null,
   "metadata": {},
   "outputs": [],
   "source": []
  }
 ],
 "metadata": {
  "kernelspec": {
   "display_name": "Python 3",
   "language": "python",
   "name": "python3"
  },
  "language_info": {
   "codemirror_mode": {
    "name": "ipython",
    "version": 3
   },
   "file_extension": ".py",
   "mimetype": "text/x-python",
   "name": "python",
   "nbconvert_exporter": "python",
   "pygments_lexer": "ipython3",
   "version": "3.6.3"
  }
 },
 "nbformat": 4,
 "nbformat_minor": 2
}
