{
 "cells": [
  {
   "cell_type": "code",
   "execution_count": 9,
   "metadata": {},
   "outputs": [
    {
     "data": {
      "text/html": [
       "<style>.container { width:100% !important; }</style>"
      ],
      "text/plain": [
       "<IPython.core.display.HTML object>"
      ]
     },
     "metadata": {},
     "output_type": "display_data"
    }
   ],
   "source": [
    "from IPython.core.display import display, HTML\n",
    "display(HTML(\"<style>.container { width:100% !important; }</style>\"))\n",
    "\n",
    "# Stop warnings\n",
    "# -------------\n",
    "import warnings\n",
    "warnings.filterwarnings(\"ignore\")\n",
    "\n",
    "# General imports\n",
    "# ---------------\n",
    "import os\n",
    "import sys\n",
    "import json\n",
    "import glob\n",
    "import numpy as np\n",
    "import matplotlib.pyplot as pl\n",
    "import ipdb\n",
    "import platform\n",
    "opj = os.path.join\n",
    "deb = ipdb.set_trace\n",
    "\n",
    "# MRI imports\n",
    "# -----------\n",
    "import nibabel as nb\n",
    "import cortex\n",
    "\n",
    "subject = '999999'\n",
    "# base_file_name = 'tfMRI_RETBAR1_7T_AP_Atlas_MSMAll_hp2000_clean.dtseries'\n",
    "\n",
    "# Define analysis parameters\n",
    "# --------------------------\n",
    "with open('../../settings.json') as f:\n",
    "    json_s = f.read()\n",
    "    analysis_info = json.loads(json_s)\n",
    "\n",
    "# Define cluster/server specific parameters\n",
    "# -----------------------------------------\n",
    "if 'aeneas' in platform.uname()[1]:\n",
    "    base_dir = analysis_info['aeneas_base_folder'] \n",
    "    main_cmd = '/home/szinte/software/workbench/bin_rh_linux64/wb_command'\n",
    "elif 'local' in platform.uname()[1]:\n",
    "    base_dir = analysis_info['local_base_folder'] \n",
    "    main_cmd = '/Applications/workbench/bin_macosx64/wb_command'\n",
    "\n",
    "# determine number of vertex and time_serie\n",
    "data = []\n",
    "data_file  =  sorted(glob.glob(opj(base_dir,'raw_data',subject,'*RETBAR1_7T*.func_bla_psc_av.gii')))\n",
    "data_file_load = nb.load(data_file[0])\n",
    "data.append(np.array([data_file_load.darrays[i].data for i in range(len(data_file_load.darrays))]))\n",
    "data = np.vstack(data) \n",
    "ts_num,vox_num = data.shape[0],data.shape[1]\n"
   ]
  },
  {
   "cell_type": "code",
   "execution_count": 7,
   "metadata": {},
   "outputs": [
    {
     "name": "stdout",
     "output_type": "stream",
     "text": [
      "converting derivative files to fsaverage\n"
     ]
    }
   ],
   "source": [
    "# Resample gii to fsaverage\n",
    "# -------------------------\n",
    "print('converting derivative files to fsaverage')\n",
    "resample_cmd = \"\"\"{main_cmd} -metric-resample {metric_in} {current_sphere} {new_sphere} ADAP_BARY_AREA {metric_out} -area-metrics {current_area} {new_area}\"\"\"\n",
    "for hemi in ['L','R']:\n",
    "\n",
    "    current_sphere = opj(base_dir,'raw_data/surfaces/resample_fsaverage','fs_LR-deformed_to-fsaverage.{hemi}.sphere.{num_vox_k}k_fs_LR.surf.gii'.format(hemi=hemi, num_vox_k = int(np.round(vox_num/1000))))\n",
    "    new_sphere = opj(base_dir,'raw_data/surfaces/resample_fsaverage','fsaverage_std_sphere.{hemi}.164k_fsavg_{hemi}.surf.gii'.format(hemi=hemi))\n",
    "    current_area = opj(base_dir,'raw_data/surfaces/resample_fsaverage','fs_LR.{hemi}.midthickness_va_avg.{num_vox_k}k_fs_LR.shape.gii'.format(hemi=hemi,num_vox_k = int(np.round(vox_num/1000))))\n",
    "    new_area = opj(base_dir,'raw_data/surfaces/resample_fsaverage','fsaverage.{hemi}.midthickness_va_avg.164k_fsavg_{hemi}.shape.gii'.format(hemi=hemi))\n",
    "\n",
    "    metric_in = opj(base_dir,'raw_data',subject,'tfMRI_RETBAR1_7T_AP_Atlas_MSMAll_hp2000_clean.dtseries_{hemi}.func_bla_psc_av.gii'.format(hemi=hemi))\n",
    "    metric_out = opj(base_dir,'raw_data',subject,'tfMRI_RETBAR1_7T_AP_Atlas_MSMAll_hp2000_clean.dtseries_{hemi}.func_bla_psc_av_fsaverage.gii'.format(hemi=hemi))\n",
    "\n",
    "    os.system(resample_cmd.format(  main_cmd = main_cmd,\n",
    "                                    metric_in = metric_in, \n",
    "                                    current_sphere = current_sphere, \n",
    "                                    new_sphere = new_sphere, \n",
    "                                    metric_out = metric_out, \n",
    "                                    current_area = current_area, \n",
    "                                    new_area = new_area))"
   ]
  },
  {
   "cell_type": "code",
   "execution_count": 50,
   "metadata": {},
   "outputs": [],
   "source": [
    "# Combine hemispheres\n",
    "tc_mat=[]\n",
    "for hemi in ['L','R']:\n",
    "    metric_out = opj(base_dir,'raw_data',subject,'tfMRI_RETBAR1_7T_AP_Atlas_MSMAll_hp2000_clean.dtseries_{hemi}.func_bla_psc_av_fsaverage.gii'.format(hemi=hemi))\n",
    "    tc_file = nb.load(metric_out)\n",
    "    exec('tc_mat_{hemi} = (np.array([tc_file.darrays[i].data for i in range(len(tc_file.darrays))]))'.format(hemi = hemi))\n",
    "    \n",
    "tc_mat = np.hstack((tc_mat_L,tc_mat_R))"
   ]
  },
  {
   "cell_type": "code",
   "execution_count": 42,
   "metadata": {},
   "outputs": [],
   "source": [
    "# save combined file\n",
    "darrays = [nb.gifti.gifti.GiftiDataArray(d) for d in tc_mat]\n",
    "gii_out = nb.gifti.gifti.GiftiImage(header = data_file_load.header, extra = data_file_load.extra, darrays = darrays)\n",
    "nb.save(gii_out,opj(base_dir,'raw_data',subject,'tfMRI_RETBAR1_7T_AP_Atlas_MSMAll_hp2000_clean.dtseries_LR.func_bla_psc_av_fsaverage.gii'.format(hemi=hemi)))"
   ]
  },
  {
   "cell_type": "code",
   "execution_count": 66,
   "metadata": {},
   "outputs": [
    {
     "name": "stdout",
     "output_type": "stream",
     "text": [
      "Started server on port 55206\n"
     ]
    },
    {
     "data": {
      "text/plain": [
       "<JS: window.viewer>"
      ]
     },
     "execution_count": 66,
     "metadata": {},
     "output_type": "execute_result"
    },
    {
     "name": "stdout",
     "output_type": "stream",
     "text": [
      "Stopping server\n"
     ]
    }
   ],
   "source": [
    "vert = cortex.Vertex(data = tc_mat, subject='fsaverage', vmin=-0.5, vmax=0.5,with_curvature = True,with_labels = True)\n",
    "ds = cortex.Dataset(time_course = vert)\n",
    "cortex.webgl.show(ds, with_labels=True, with_rois=True,with_label = True,with_curvature = True)"
   ]
  },
  {
   "cell_type": "code",
   "execution_count": null,
   "metadata": {},
   "outputs": [],
   "source": []
  }
 ],
 "metadata": {
  "kernelspec": {
   "display_name": "Python 3",
   "language": "python",
   "name": "python3"
  },
  "language_info": {
   "codemirror_mode": {
    "name": "ipython",
    "version": 3
   },
   "file_extension": ".py",
   "mimetype": "text/x-python",
   "name": "python",
   "nbconvert_exporter": "python",
   "pygments_lexer": "ipython3",
   "version": "3.6.3"
  }
 },
 "nbformat": 4,
 "nbformat_minor": 2
}
