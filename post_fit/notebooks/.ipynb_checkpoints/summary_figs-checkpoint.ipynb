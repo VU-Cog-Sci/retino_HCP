{
 "cells": [
  {
   "cell_type": "code",
   "execution_count": 1,
   "metadata": {},
   "outputs": [],
   "source": [
    "# to do\n",
    "# 1. get data of derivatives for analysed subjects\n",
    "# 2. compute for each participant / each ROI / pos + neg, \n",
    "#           - weighted correlation of ecc/size\n",
    "#           - weigthed laterality index\n",
    "#           - median r2 fit\n",
    "#           - mean r2 fit\n",
    "# 3. compute mean/median/std/sem/95ci across participants for each ROI / pos+neg\n",
    "\n",
    "# ------------------ i'm here ----\n",
    "# 3. draw for each subject for early-vision / mid-vision / DMN ROIs (3 rows)\n",
    "#           - lines weighted correlation size/ecc as with legend as ROI (column 1)\n",
    "#           - size/ecc correlation r2 as a function of ROIs (column 2)\n",
    "#           - laterality index as function of ROIs (column 3)\n",
    "# 4. draw across subjects for early-vision / mid-vision / DMN ROIs (3 rows)\n",
    "#           - lines weighted correlation size/ecc as with legend as ROI (column 1)\n",
    "#           - size/ecc correlation r2 as a function of ROIs (column 2)\n",
    "#           - laterality index as function of ROIs (column 3)\n",
    "# 5. draw across subjects for early-vision / mid-vision / DMN ROIs (3 columns)\n",
    "#           - weighted size/ecc correlation as a function ranked subject mean r2 fit in V1 with ROI in legend (row 1)\n",
    "#           - weighted contra-laterality index as a function ranked subject mean r2 fit in V1 with ROI in legend (row 2)\n",
    "\n"
   ]
  },
  {
   "cell_type": "code",
   "execution_count": 2,
   "metadata": {},
   "outputs": [
    {
     "data": {
      "text/html": [
       "<style>.container { width:100% !important; }</style>"
      ],
      "text/plain": [
       "<IPython.core.display.HTML object>"
      ]
     },
     "metadata": {},
     "output_type": "display_data"
    }
   ],
   "source": [
    "from IPython.core.display import display, HTML\n",
    "display(HTML(\"<style>.container { width:100% !important; }</style>\"))\n",
    "\n",
    "# Stop warnings\n",
    "# -------------\n",
    "import warnings\n",
    "warnings.filterwarnings(\"ignore\")\n",
    "\n",
    "# General imports\n",
    "# ---------------\n",
    "import os\n",
    "import sys\n",
    "import json\n",
    "import glob\n",
    "import numpy as np\n",
    "import matplotlib.pyplot as pl\n",
    "import ipdb\n",
    "import platform\n",
    "import h5py\n",
    "import scipy.io\n",
    "from scipy.optimize import curve_fit\n",
    "from sklearn.metrics import r2_score\n",
    "opj = os.path.join\n",
    "deb = ipdb.set_trace\n",
    "\n",
    "# MRI imports\n",
    "# -----------\n",
    "import nibabel as nb\n",
    "import cortex\n",
    "\n",
    "# Bokeh imports\n",
    "# -------------\n",
    "from bokeh.io import output_notebook, show, save, output_file, export_png, export_svgs\n",
    "from bokeh.layouts import row, column, gridplot"
   ]
  },
  {
   "cell_type": "code",
   "execution_count": 3,
   "metadata": {},
   "outputs": [],
   "source": [
    "# Define analysis parameters\n",
    "# --------------------------\n",
    "with open('../../settings.json') as f:\n",
    "    json_s = f.read()\n",
    "    analysis_info = json.loads(json_s)\n",
    "    \n",
    "# Define cluster/server specific parameters\n",
    "# -----------------------------------------\n",
    "if 'aeneas' in platform.uname()[1]:\n",
    "    base_dir = analysis_info['aeneas_base_folder'] \n",
    "elif 'local' in platform.uname()[1]:\n",
    "    base_dir = analysis_info['local_base_folder'] \n",
    "    \n",
    "sign_idx, rsq_idx, ecc_idx, polar_real_idx, polar_imag_idx , size_idx, \\\n",
    "            non_lin_idx, amp_idx, baseline_idx, cov_idx, x_idx, y_idx = 0,1,2,3,4,5,6,7,8,9,10,11\n",
    "    \n",
    "fit_model = 'gauss'"
   ]
  },
  {
   "cell_type": "code",
   "execution_count": 4,
   "metadata": {},
   "outputs": [],
   "source": [
    "# find analysed subjects\n",
    "analysed_subject = []\n",
    "for subject in analysis_info['subject_list']:\n",
    "    if os.path.isdir(opj(base_dir,'pp_data',subject,fit_model,'h5')) == 1:\n",
    "        analysed_subject.append(subject)"
   ]
  },
  {
   "cell_type": "code",
   "execution_count": 6,
   "metadata": {},
   "outputs": [],
   "source": [
    "# create all subject folder: 000000\n",
    "subject_all = '000000'\n",
    "\n",
    "# create h5 file\n",
    "summary_hdf5 = opj(base_dir,'pp_data',subject_all,'h5')\n",
    "try: os.makedirs(summary_hdf5)\n",
    "except: pass\n",
    "summary_hdf5_file = opj(base_dir,'pp_data',subject_all,'h5','summary.h5')\n",
    "try: \n",
    "    os.system('rm '+ summary_hdf5_file)\n",
    "except: \n",
    "    pass\n",
    "h5file = h5py.File(summary_hdf5_file, \"a\")"
   ]
  },
  {
   "cell_type": "code",
   "execution_count": 7,
   "metadata": {},
   "outputs": [
    {
     "name": "stdout",
     "output_type": "stream",
     "text": [
      "192641\n",
      "105923\n",
      "111312\n"
     ]
    }
   ],
   "source": [
    "# get analysed subject derivatives\n",
    "for subject in analysed_subject:\n",
    "    print(subject)\n",
    "    for roi_num, roi in enumerate(analysis_info['rois']):\n",
    "        for mask_dir in ['pos','neg']:\n",
    "            deriv_mat_hemi = []\n",
    "            deriv_mat = np.array([])\n",
    "            summary_mat = np.array([])\n",
    "            val_hemi = 0\n",
    "            for hemi in ['L', 'R','LR']:\n",
    "                h5_dir = opj(base_dir,'pp_data',subject,fit_model,'h5')\n",
    "\n",
    "                # load data\n",
    "                if hemi == 'LR':\n",
    "                    deriv_mat = np.row_stack((deriv_mat_hemi[0],deriv_mat_hemi[1]))\n",
    "                    draw = True\n",
    "                else:\n",
    "                    # load derivatives\n",
    "                    if hemi == 'L': val_hemi = 1\n",
    "                    elif hemi == 'R': val_hemi = 2\n",
    "                    folder_alias = '{hemi}_{mask_dir}'.format(hemi = hemi,mask_dir = mask_dir)\n",
    "                    h5_file = h5py.File(opj(h5_dir,'{roi}.h5'.format(roi = roi)), \"r\")\n",
    "                    in_file = opj(\"prf_deriv_{hemi}_{mask_dir}\".format(hemi = hemi, mask_dir = mask_dir))\n",
    "                    deriv_mat = h5_file['{folder_alias}/{in_file}'.format(folder_alias=folder_alias,in_file=in_file)]\n",
    "                    deriv_mat = np.vstack((deriv_mat,val_hemi*np.ones((1,deriv_mat.shape[1]))))\n",
    "                    deriv_mat = deriv_mat[:,:].T\n",
    "                    deriv_mat_hemi.append(deriv_mat)\n",
    "            \n",
    "            vertex_ini = deriv_mat.shape[0]\n",
    "            if vertex_ini > 0:\n",
    "                data4mask = deriv_mat\n",
    "                deriv_mat = deriv_mat[np.logical_and(np.logical_and( data4mask[:,rsq_idx]>=analysis_info['rsq_threshold'],\n",
    "                                                                     data4mask[:,cov_idx]>=analysis_info['cov_threshold']),\n",
    "                                                                     data4mask[:,size_idx]>=analysis_info['size_threshold'])]\n",
    "                vertex = deriv_mat.shape[0]\n",
    "\n",
    "                if np.round(vertex) == 0:\n",
    "                    summary_mat = np.array([np.nan,np.nan,np.nan,np.nan,np.nan,np.nan])\n",
    "                else:\n",
    "                    # compute correlation size/ecc\n",
    "                    if vertex >= 2:\n",
    "                        linear_function = lambda x, a, b: a * x + b\n",
    "\n",
    "                        ecc_data = deriv_mat[:,ecc_idx]\n",
    "                        size_data = deriv_mat[:,size_idx]\n",
    "                        weight_data = deriv_mat[:,rsq_idx]\n",
    "                        coeffs, matcov = curve_fit( f = linear_function,\n",
    "                                                    xdata = ecc_data,\n",
    "                                                    ydata = size_data,\n",
    "                                                    sigma = weight_data)\n",
    "                        size_fit = linear_function(ecc_data, coeffs[0], coeffs[1])\n",
    "\n",
    "                        ecc_size_r2 = r2_score(y_true=size_data,y_pred=size_fit)\n",
    "                        ecc_size_slope = coeffs[0]\n",
    "                        ecc_size_intercept = coeffs[0]\n",
    "                    else:\n",
    "                        ecc_size_r2 = np.nan\n",
    "                        ecc_size_slope = np.nan\n",
    "                        ecc_size_intercept = np.nan\n",
    "                    \n",
    "                    # compute laterality index                    \n",
    "                    data_L = deriv_mat[deriv_mat[:,12]==1,:]\n",
    "                    contra_lat_L = np.nansum(data_L[data_L[:,x_idx] > 0,rsq_idx])/np.nansum(data_L[:,rsq_idx])\n",
    "                    data_R = deriv_mat[deriv_mat[:,12]==2,:]\n",
    "                    contra_lat_R = np.nansum(data_R[data_R[:,x_idx] < 0,rsq_idx])/np.nansum(data_R[:,rsq_idx])\n",
    "                    contra_lat = np.nanmean([contra_lat_L,contra_lat_R])\n",
    "                    \n",
    "                    # median r2 fit\n",
    "                    median_fit_r2 = np.nanmedian(deriv_mat[:,rsq_idx])\n",
    "                    mean_fit_r2   = np.nanmean(deriv_mat[:,rsq_idx])\n",
    "                    \n",
    "                    summary_mat = np.array([ecc_size_r2,ecc_size_slope,ecc_size_intercept,contra_lat,median_fit_r2,mean_fit_r2])\n",
    "            else:\n",
    "                summary_mat = np.array([np.nan,np.nan,np.nan,np.nan,np.nan,np.nan])        \n",
    "\n",
    "            # creat subject folder\n",
    "            h5file.create_dataset('{subject}/{roi}/{mask_dir}_summary'.format(subject = subject, roi = roi, mask_dir = mask_dir),data = summary_mat,dtype='float32')\n"
   ]
  },
  {
   "cell_type": "code",
   "execution_count": 8,
   "metadata": {},
   "outputs": [
    {
     "name": "stdout",
     "output_type": "stream",
     "text": [
      "V1\n",
      "V2\n",
      "V3\n",
      "VO\n",
      "DO\n",
      "LO\n",
      "SUP_PAR\n",
      "TPJ\n",
      "sPCS\n",
      "iPCS\n",
      "mPCS\n",
      "INS\n",
      "DLPFC\n",
      "ANG\n",
      "MED_PAR\n",
      "SUP_MED_FR\n",
      "LAT_TEMP\n"
     ]
    }
   ],
   "source": [
    "# read file\n",
    "h5file = h5py.File(summary_hdf5_file, \"a\")\n",
    "num_sum_val = 6\n",
    "\n",
    "# make mean across participants of all parameters\n",
    "for roi_num, roi in enumerate(analysis_info['rois']):\n",
    "    print(roi)\n",
    "    for mask_dir in ['pos','neg']:\n",
    "        summary_mat = np.zeros((len(analysed_subject),num_sum_val))\n",
    "        for subject_num, subject in enumerate(analysed_subject):\n",
    "            folder_alias = '{subject}/{roi}/{mask_dir}_summary'.format(subject = subject, roi = roi, mask_dir = mask_dir)\n",
    "            summary_mat[subject_num,:] = h5file['{folder_alias}'.format(folder_alias=folder_alias)]\n",
    "\n",
    "        summary_mat_mean = np.nanmean(summary_mat,axis=0)\n",
    "        h5file.create_dataset('{subject}/{roi}/{mask_dir}_summary_mean'.format(subject = subject_all, roi = roi, mask_dir = mask_dir),data = summary_mat_mean,dtype='float32')\n",
    "        summary_mat_median =  np.nanmedian(summary_mat,axis=0)\n",
    "        h5file.create_dataset('{subject}/{roi}/{mask_dir}_summary_median'.format(subject = subject_all, roi = roi, mask_dir = mask_dir),data = summary_mat_median,dtype='float32')\n",
    "        summary_mat_std = np.nanstd(summary_mat,axis=0)\n",
    "        h5file.create_dataset('{subject}/{roi}/{mask_dir}_summary_std'.format(subject = subject_all, roi = roi, mask_dir = mask_dir),data = summary_mat_std,dtype='float32')\n",
    "        summary_mat_sem = scipy.stats.sem(summary_mat,axis=0)\n",
    "        h5file.create_dataset('{subject}/{roi}/{mask_dir}_summary_sem'.format(subject = subject_all, roi = roi, mask_dir = mask_dir),data = summary_mat_sem,dtype='float32')\n",
    "        summary_mat_95ci = np.nanpercentile(summary_mat,[2.5,97.5],axis=0)\n",
    "        h5file.create_dataset('{subject}/{roi}/{mask_dir}_summary_95ci'.format(subject = subject_all, roi = roi, mask_dir = mask_dir),data = summary_mat_95ci,dtype='float32')\n",
    "        \n",
    "\n",
    "\n",
    "            "
   ]
  },
  {
   "cell_type": "code",
   "execution_count": 27,
   "metadata": {},
   "outputs": [
    {
     "data": {
      "image/png": "[encoded data removed]",
      "text/plain": [
       "<matplotlib.figure.Figure at 0xa51d9a5c0>"
      ]
     },
     "metadata": {},
     "output_type": "display_data"
    }
   ],
   "source": [
    "# mask data\n",
    "\n",
    "import matplotlib.pyplot as plt\n",
    "# compute correlation size/ecc\n",
    "\n",
    "plt.plot(ecc_data,size_fit)\n",
    "plt.plot(ecc_data,size_data,'o')\n",
    "plt.show()\n",
    "\n"
   ]
  },
  {
   "cell_type": "code",
   "execution_count": null,
   "metadata": {},
   "outputs": [],
   "source": []
  },
  {
   "cell_type": "code",
   "execution_count": null,
   "metadata": {},
   "outputs": [],
   "source": [
    "from __future__ import division, print_function\n",
    "# Bokeh import\n",
    "# ------------\n",
    "from bokeh.plotting import figure \n",
    "from bokeh.models import ColumnDataSource\n",
    "from bokeh.models.tools import HoverTool\n",
    "from bokeh.models.annotations import Span, Label\n",
    "from bokeh.layouts import row, column, gridplot\n",
    "from bokeh.models import BoxZoomTool, BoxSelectTool, Spacer, WheelZoomTool, PanTool, ResetTool\n",
    "from bokeh.models.glyphs import Text\n",
    "from bokeh.models.mappers import LinearColorMapper\n",
    "from bokeh.io import output_notebook, show,save, output_file, export_png, export_svgs\n",
    "from bokeh.models import Arrow, OpenHead, NormalHead, VeeHead\n",
    "output_notebook()\n",
    "\n",
    "# Other imports\n",
    "# -------------\n",
    "import numpy as np\n",
    "import cortex\n",
    "import matplotlib.colors as colors\n",
    "import scipy as sy\n",
    "import numpy as np\n",
    "import ipdb\n",
    "deb = ipdb.set_trace\n"
   ]
  },
  {
   "cell_type": "code",
   "execution_count": null,
   "metadata": {},
   "outputs": [],
   "source": [
    "x_range_es_slope = (0,10)\n",
    "y_range_es_slope = (0,10)\n",
    "\n",
    "ecc_size_slope_fig  = figure(   plot_width          =   p_width,\n",
    "                                plot_height         =   int(p_height*0.42),\n",
    "                                x_range             =   x_range_tc,\n",
    "                                y_range             =   y_range_tc,\n",
    "                                min_border_left     =   min_border_large,\n",
    "                               min_border_right    =   min_border_large,\n",
    "                               min_border_bottom   =   min_border_large,\n",
    "                               min_border_top      =   min_border_large,\n",
    "                                        toolbar_location    =   None,\n",
    "                                        tools               =   \"\")"
   ]
  }
 ],
 "metadata": {
  "kernelspec": {
   "display_name": "Python 3",
   "language": "python",
   "name": "python3"
  },
  "language_info": {
   "codemirror_mode": {
    "name": "ipython",
    "version": 3
   },
   "file_extension": ".py",
   "mimetype": "text/x-python",
   "name": "python",
   "nbconvert_exporter": "python",
   "pygments_lexer": "ipython3",
   "version": "3.6.3"
  }
 },
 "nbformat": 4,
 "nbformat_minor": 2
}
