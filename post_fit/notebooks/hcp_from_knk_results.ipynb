{
 "cells": [
  {
   "cell_type": "code",
   "execution_count": 1,
   "metadata": {
    "collapsed": true,
    "inputHidden": false,
    "outputHidden": false
   },
   "outputs": [],
   "source": [
    "import cifti\n",
    "import numpy as np\n",
    "import os\n",
    "import pandas as pd\n",
    "import nibabel as nb\n",
    "import h5py\n",
    "import cortex\n",
    "import matplotlib.colors as colors\n",
    "import matplotlib.pyplot as pl\n",
    "%matplotlib inline"
   ]
  },
  {
   "cell_type": "code",
   "execution_count": 2,
   "metadata": {
    "collapsed": true,
    "inputHidden": false,
    "outputHidden": false
   },
   "outputs": [],
   "source": [
    "pkg_dir = '/Users/knapen/projects/retino_HCP/'\n",
    "suffix = '' # 'NEGATIVEPRF'\n",
    "\n",
    "orig = cifti.read('/Users/knapen/Downloads/tfMRI_RETEXP_7T_AP_Atlas_MSMAll_hp2000_clean.dtseries.nii')\n",
    "series = orig[1][0]\n",
    "bm = orig[1][1]\n",
    "\n",
    "wbc = \"\"\"/Applications/workbench/bin_macosx64/wb_command -cifti-separate {cii} \\\n",
    "COLUMN -volume-all {cii_n}_data_sub.nii \\\n",
    "-metric CORTEX_LEFT {cii_n}_L.gii \\\n",
    "-metric CORTEX_RIGHT {cii_n}_R.gii &\"\"\"\n",
    "\n",
    "resample_cmd = \"\"\"/Applications/workbench/bin_macosx64/wb_command -metric-resample \\\n",
    "{metric_in} {current_sphere} {new_sphere} \\\n",
    "ADAP_BARY_AREA {metric_out} -area-metrics {current_area} {new_area}\"\"\"\n"
   ]
  },
  {
   "cell_type": "code",
   "execution_count": 3,
   "metadata": {
    "collapsed": true,
    "inputHidden": false,
    "outputHidden": false
   },
   "outputs": [],
   "source": [
    "with h5py.File('/Users/knapen/Downloads/prfresults%s.mat'%suffix, 'r') as mat:\n",
    "    allresults = mat['/allresults'].value"
   ]
  },
  {
   "cell_type": "code",
   "execution_count": 4,
   "metadata": {
    "collapsed": true,
    "inputHidden": false,
    "outputHidden": false
   },
   "outputs": [],
   "source": [
    "# convert the angle to radians to complex numbers, and scale r2 values to [0,1]\n",
    "rads = 2*np.pi*allresults[:,:,0,:]/360\n",
    "real, imag = np.sin(rads) , np.cos(rads)\n",
    "newresults = np.array([real, imag, allresults[:,:,0,:], allresults[:,:,1,:], allresults[:,:,2,:], allresults[:,:,3,:], allresults[:,:,4,:]/100, allresults[:,:,5,:]]).transpose((1,2,0,3))"
   ]
  },
  {
   "cell_type": "code",
   "execution_count": 5,
   "metadata": {
    "collapsed": true,
    "inputHidden": false,
    "outputHidden": false
   },
   "outputs": [],
   "source": [
    "# re-code the data for weighted average subject\n",
    "\n",
    "comp_angle = real + imag * 1j\n",
    "scaled_comp_angle = comp_angle * allresults[:,:,-2,:]\n",
    "scaled_ecc = newresults[:,:,3,:] * newresults[:,:,-2,:]\n",
    "\n",
    "avg_angle = np.angle(np.mean(scaled_comp_angle, axis=1))[0]\n",
    "avg_rsq = np.average(newresults[:,:,-2,:], axis=1, weights=newresults[:,:,-2,:])[0]\n",
    "avg_ecc = np.average(newresults[:,:,3,:], axis=1, weights=newresults[:,:,-2,:])[0]\n",
    "avg_size = np.average(newresults[:,:,7,:], axis=1, weights=newresults[:,:,-2,:])[0]\n",
    "\n",
    "cii = '/Users/knapen/Downloads/hcp/prfresults_mean_%s.dscalar.nii'%suffix\n",
    "cifti.write(cii, [avg_angle, avg_rsq, avg_ecc, avg_size], (cifti.Scalar.from_names(['ang', 'R2', 'ecc', 'rfsize']), bm))\n",
    "# and convert the created cifti file to gii files\n",
    "wbc_c = wbc.format(cii=cii, cii_n=cii[:-4])\n",
    "os.system(wbc_c);"
   ]
  },
  {
   "cell_type": "code",
   "execution_count": 6,
   "metadata": {
    "collapsed": true,
    "inputHidden": false,
    "outputHidden": false
   },
   "outputs": [],
   "source": [
    "# For all subjects\n",
    "for sj in range(allresults.shape[1]-1,allresults.shape[1]):\n",
    "    cii = '/Users/knapen/Downloads/hcp/prfresults_%s_%03d.dscalar.nii'%(suffix,sj)\n",
    "    cifti.write(cii, newresults[0,sj], (cifti.Scalar.from_names(['real', 'imag', 'ang', 'ecc', 'gain', 'meanvol', 'R2', 'rfsize']), bm))\n",
    "    # and convert the created cifti file to gii files\n",
    "    wbc_c = wbc.format(cii=cii, cii_n=cii[:-4])\n",
    "    os.system(wbc_c)    \n"
   ]
  },
  {
   "cell_type": "code",
   "execution_count": 7,
   "metadata": {
    "collapsed": true,
    "inputHidden": false,
    "outputHidden": false
   },
   "outputs": [],
   "source": [
    "# resample to fsaverage\n",
    "cs = pkg_dir + 'data/surfaces/resample_fsaverage/fs_LR-deformed_to-fsaverage.{hemi}.sphere.32k_fs_LR.surf.gii'\n",
    "ns = pkg_dir + 'data/surfaces/resample_fsaverage/fsaverage_std_sphere.{hemi}.164k_fsavg_{hemi}.surf.gii'\n",
    "ca = pkg_dir + 'data/surfaces/resample_fsaverage/fs_LR.{hemi}.midthickness_va_avg.32k_fs_LR.shape.gii'\n",
    "na = pkg_dir + 'data/surfaces/resample_fsaverage/fsaverage.{hemi}.midthickness_va_avg.164k_fsavg_{hemi}.shape.gii'\n",
    "\n",
    "for sj in range(allresults.shape[1]-1,allresults.shape[1]):\n",
    "    for hemi in ('L', 'R'):\n",
    "        mi = '/Users/knapen/Downloads/hcp/prfresults_%s_%03d.dscalar_{hemi}.gii'%(suffix,sj)\n",
    "        mo = '/Users/knapen/Downloads/hcp/prfresults_%s_%03d.dscalar_fsaverage_{hemi}.gii'%(suffix,sj)\n",
    "        this_cmd = resample_cmd.format(metric_in=mi.format(hemi=hemi), \n",
    "                                   current_sphere=cs.format(hemi=hemi), \n",
    "                                   new_sphere=ns.format(hemi=hemi), \n",
    "                                   metric_out=mo.format(hemi=hemi), \n",
    "                                   current_area=ca.format(hemi=hemi), \n",
    "                                   new_area=na.format(hemi=hemi))\n",
    "        os.system(this_cmd)    "
   ]
  },
  {
   "cell_type": "markdown",
   "metadata": {
    "inputHidden": false,
    "outputHidden": false
   },
   "source": [
    "## KnK's analysis results plotted using pycortex"
   ]
  },
  {
   "cell_type": "code",
   "execution_count": 8,
   "metadata": {
    "collapsed": true,
    "inputHidden": false,
    "outputHidden": false
   },
   "outputs": [],
   "source": [
    "mo = '/Users/knapen/Downloads/hcp/prfresults_%s_183.dscalar_fsaverage_{hemi}.gii'%(suffix)\n",
    "\n",
    "gii_files = [mo.format(hemi=hemi) for hemi in ('L','R')]\n",
    "giis = [nb.load(gii_file) for gii_file in gii_files]\n",
    "data=[]\n",
    "for gii in giis:\n",
    "   data.append(np.array([gii.darrays[i].data for i in range(len(gii.darrays))]))\n",
    "data = np.hstack(data)"
   ]
  },
  {
   "cell_type": "code",
   "execution_count": 9,
   "metadata": {
    "collapsed": true,
    "inputHidden": false,
    "outputHidden": false
   },
   "outputs": [],
   "source": [
    "# data format: 'real', 'imag', 'ang', 'ecc', 'gain', 'meanvol', 'R2', 'rfsize'\n",
    "\n",
    "polcomp = np.nan_to_num(data[0,:]) + np.nan_to_num(data[1,:]) * 1j\n",
    "\n",
    "angs = np.angle(polcomp)\n",
    "rsq = np.nan_to_num(data[-2,:])\n",
    "\n",
    "angs_n = (np.nan_to_num(angs) + np.pi) / (2*np.pi)\n",
    "\n",
    "# convert angles to colors, using correlations as weights\n",
    "hsv = np.zeros(list(angs_n.shape) + [3])\n",
    "hsv[..., 0] = angs_n # angs_discrete  # angs_n\n",
    "hsv[..., 1] = np.ones_like(rsq) # np.sqrt(rsq) #np.ones_like(rsq)  # np.sqrt(rsq)\n",
    "# np.nan_to_num(rsq ** -3) # np.ones_like(rsq)#n\n",
    "hsv[..., 2] = (rsq >= 0.1).astype(float)# np.ones_like(rsq)\n",
    "\n",
    "rgb = colors.hsv_to_rgb(hsv) * 255\n",
    "\n",
    "red = cortex.Vertex(rgb[:,0].astype(np.uint8), subject='fsaverage', vmin=0, vmax=25)\n",
    "green = cortex.Vertex(rgb[:,1].astype(np.uint8), subject='fsaverage', vmin=0, vmax=25)\n",
    "blue = cortex.Vertex(rgb[:,2].astype(np.uint8), subject='fsaverage', vmin=0, vmax=25)\n",
    "\n",
    "polar_vertex_data = cortex.VertexRGB(red, green, blue, subject='fsaverage')\n",
    "\n",
    "# plotting is slow with db over sshfs\n",
    "# cortex.quickshow(vertex_data, with_colorbar=False)\n",
    "# pl.show()\n",
    "# cortex.quickshow(cortex.Vertex(rsq, subject='fsaverage'), with_colorbar=False)\n",
    "# pl.show()\n",
    "\n",
    "ecc = np.nan_to_num(data[3,:])\n",
    "size = np.nan_to_num(data[-1,:])\n",
    "\n",
    "ecc[rsq<=0.1] = np.nan\n",
    "size[rsq<=0.1] = np.nan\n",
    "\n",
    "ecc_vert = cortex.Vertex(-ecc, subject='fsaverage', cmap='viridis') # , vmin1=0, vmax1=5, vmin2=0, vmax2=5, cmap='RdGn_covar'\n",
    "size_vert = cortex.Vertex(-size, subject='fsaverage', cmap='viridis') # , vmin1=0, vmax1=5, vmin2=0, vmax2=5, cmap='RdGn_covar'"
   ]
  },
  {
   "cell_type": "code",
   "execution_count": 10,
   "metadata": {
    "inputHidden": false,
    "outputHidden": false
   },
   "outputs": [
    {
     "data": {
      "image/png": "[encoded data removed]",
      "text/plain": [
       "<matplotlib.figure.Figure at 0xa765e26a0>"
      ]
     },
     "metadata": {},
     "output_type": "display_data"
    }
   ],
   "source": [
    "f, ss= pl.subplots(1,7, figsize=(20,4))\n",
    "ss[0].hist(np.nan_to_num(data[0,:]), bins=100)\n",
    "ss[0].hist(np.nan_to_num(data[1,:]), bins=100)\n",
    "ss[0].set_title('real and imaginary numbers \\nfrom original data (x and y)')\n",
    "ss[1].hist(np.nan_to_num(real[0,-1]), bins=100)\n",
    "ss[1].hist(np.nan_to_num(imag[0,-1]), bins=100)\n",
    "ss[1].set_title('real and imaginary numbers \\nin fsaverage (x and y)')\n",
    "\n",
    "ss[2].hist(np.nan_to_num(angs), bins=100)\n",
    "ss[2].set_title('angles in radians')\n",
    "\n",
    "ss[3].hist(np.nan_to_num(rsq), bins=100)\n",
    "ss[3].set_title('rsq')\n",
    "\n",
    "ss[4].hist(np.nan_to_num(angs_n), bins=100)\n",
    "ss[4].set_title('normalized angles');\n",
    "\n",
    "ss[5].hist(np.nan_to_num(ecc), bins=100)\n",
    "ss[5].set_title('ecc');\n",
    "\n",
    "ss[6].hist(np.nan_to_num(size), bins=100)\n",
    "ss[6].set_title('size');\n",
    "pl.tight_layout()"
   ]
  },
  {
   "cell_type": "code",
   "execution_count": 11,
   "metadata": {
    "inputHidden": false,
    "outputHidden": false
   },
   "outputs": [
    {
     "name": "stdout",
     "output_type": "stream",
     "text": [
      "Started server on port 15809\n"
     ]
    },
    {
     "data": {
      "text/plain": [
       "<JS: window.viewer>"
      ]
     },
     "execution_count": 11,
     "metadata": {},
     "output_type": "execute_result"
    }
   ],
   "source": [
    "ds = cortex.Dataset(ecc=ecc_vert, size=size_vert, polar=polar_vertex_data, rsq=cortex.Vertex(rsq, subject='fsaverage', vmin=-0.5, vmax=0.5))\n",
    "cortex.webgl.show(ds, with_labels=False, with_rois=False)"
   ]
  },
  {
   "cell_type": "code",
   "execution_count": 12,
   "metadata": {
    "inputHidden": false,
    "outputHidden": false
   },
   "outputs": [
    {
     "ename": "NameError",
     "evalue": "name 'pycortex' is not defined",
     "output_type": "error",
     "traceback": [
      "\u001b[0;31m---------------------------------------------------------------------------\u001b[0m",
      "\u001b[0;31mNameError\u001b[0m                                 Traceback (most recent call last)",
      "\u001b[0;32m<ipython-input-12-aad7ab017ff4>\u001b[0m in \u001b[0;36m<module>\u001b[0;34m()\u001b[0m\n\u001b[0;32m----> 1\u001b[0;31m \u001b[0mpycortex\u001b[0m\u001b[0;34m\u001b[0m\u001b[0m\n\u001b[0m",
      "\u001b[0;31mNameError\u001b[0m: name 'pycortex' is not defined"
     ]
    }
   ],
   "source": [
    "pycortex"
   ]
  },
  {
   "cell_type": "markdown",
   "metadata": {},
   "source": [
    "## own fitting of only pRF runs, visualised using pycortex"
   ]
  },
  {
   "cell_type": "markdown",
   "metadata": {},
   "source": []
  },
  {
   "cell_type": "code",
   "execution_count": 13,
   "metadata": {
    "inputHidden": false,
    "outputHidden": false
   },
   "outputs": [
    {
     "name": "stdout",
     "output_type": "stream",
     "text": [
      "/Applications/workbench/bin_macosx64/wb_command -metric-resample /Users/knapen/projects/retino_HCP/data/results/tfMRI_RETBAR1_7T_AP_Atlas_MSMAll_hp2000_clean.dtseries_L.func_bla_psc_av_est_f32.gii /Users/knapen/projects/retino_HCP/data/surfaces/resample_fsaverage/fs_LR-deformed_to-fsaverage.L.sphere.32k_fs_LR.surf.gii /Users/knapen/projects/retino_HCP/data/surfaces/resample_fsaverage/fsaverage_std_sphere.L.164k_fsavg_L.surf.gii ADAP_BARY_AREA /Users/knapen/projects/retino_HCP/data/results/tfMRI_RETBAR1_7T_AP_Atlas_MSMAll_hp2000_clean.dtseries_L.func_bla_psc_av_est_fsaverage.gii -area-metrics /Users/knapen/projects/retino_HCP/data/surfaces/resample_fsaverage/fs_LR.L.midthickness_va_avg.32k_fs_LR.shape.gii /Users/knapen/projects/retino_HCP/data/surfaces/resample_fsaverage/fsaverage.L.midthickness_va_avg.164k_fsavg_L.shape.gii\n",
      "/Applications/workbench/bin_macosx64/wb_command -metric-resample /Users/knapen/projects/retino_HCP/data/results/tfMRI_RETBAR1_7T_AP_Atlas_MSMAll_hp2000_clean.dtseries_R.func_bla_psc_av_est_f32.gii /Users/knapen/projects/retino_HCP/data/surfaces/resample_fsaverage/fs_LR-deformed_to-fsaverage.R.sphere.32k_fs_LR.surf.gii /Users/knapen/projects/retino_HCP/data/surfaces/resample_fsaverage/fsaverage_std_sphere.R.164k_fsavg_R.surf.gii ADAP_BARY_AREA /Users/knapen/projects/retino_HCP/data/results/tfMRI_RETBAR1_7T_AP_Atlas_MSMAll_hp2000_clean.dtseries_R.func_bla_psc_av_est_fsaverage.gii -area-metrics /Users/knapen/projects/retino_HCP/data/surfaces/resample_fsaverage/fs_LR.R.midthickness_va_avg.32k_fs_LR.shape.gii /Users/knapen/projects/retino_HCP/data/surfaces/resample_fsaverage/fsaverage.R.midthickness_va_avg.164k_fsavg_R.shape.gii\n"
     ]
    }
   ],
   "source": [
    "# resample to fsaverage\n",
    "cs = pkg_dir + 'data/surfaces/resample_fsaverage/fs_LR-deformed_to-fsaverage.{hemi}.sphere.32k_fs_LR.surf.gii'\n",
    "ns = pkg_dir + 'data/surfaces/resample_fsaverage/fsaverage_std_sphere.{hemi}.164k_fsavg_{hemi}.surf.gii'\n",
    "ca = pkg_dir + 'data/surfaces/resample_fsaverage/fs_LR.{hemi}.midthickness_va_avg.32k_fs_LR.shape.gii'\n",
    "na = pkg_dir + 'data/surfaces/resample_fsaverage/fsaverage.{hemi}.midthickness_va_avg.164k_fsavg_{hemi}.shape.gii'\n",
    "\n",
    "mi = pkg_dir + 'data/results/tfMRI_RETBAR1_7T_AP_Atlas_MSMAll_hp2000_clean.dtseries_{hemi}.func_bla_psc_av_est.gii'\n",
    "mo = pkg_dir + 'data/results/tfMRI_RETBAR1_7T_AP_Atlas_MSMAll_hp2000_clean.dtseries_{hemi}.func_bla_psc_av_est_fsaverage.gii'\n",
    "\n",
    "for hemi in ('L', 'R'):\n",
    "    gii_file = mi.format(hemi=hemi)\n",
    "    gii = nb.load(gii_file)\n",
    "    data32 = np.array([gii.darrays[i].data for i in range(len(gii.darrays))]).astype(np.float32)\n",
    "    darrays = [nb.gifti.gifti.GiftiDataArray(d) for d in data32]\n",
    "    gii_out = nb.gifti.gifti.GiftiImage(header=gii.header, \n",
    "                            extra=gii.extra,\n",
    "                            darrays=darrays)\n",
    "    \n",
    "    out_file = os.path.abspath(os.path.splitext(gii_file)[0] + '_f32.gii')\n",
    "    nb.save(gii_out, out_file)\n",
    "    \n",
    "    \n",
    "    # conversion to fsaverage\n",
    "    this_cmd = resample_cmd.format(metric_in=out_file, \n",
    "                               current_sphere=cs.format(hemi=hemi), \n",
    "                               new_sphere=ns.format(hemi=hemi), \n",
    "                               metric_out=mo.format(hemi=hemi), \n",
    "                               current_area=ca.format(hemi=hemi), \n",
    "                               new_area=na.format(hemi=hemi))\n",
    "    os.system(this_cmd)  \n",
    "    print(this_cmd)"
   ]
  },
  {
   "cell_type": "code",
   "execution_count": 14,
   "metadata": {
    "collapsed": true,
    "inputHidden": false,
    "outputHidden": false
   },
   "outputs": [],
   "source": [
    "gii_files = [mo.format(hemi=hemi) for hemi in ('L','R')]\n",
    "giis = [nb.load(gii_file) for gii_file in gii_files]\n",
    "data=[]\n",
    "for gii in giis:\n",
    "   data.append(np.array([gii.darrays[i].data for i in range(len(gii.darrays))]))\n",
    "data = np.hstack(data)"
   ]
  },
  {
   "cell_type": "code",
   "execution_count": 15,
   "metadata": {
    "collapsed": true,
    "inputHidden": false,
    "outputHidden": false
   },
   "outputs": [],
   "source": [
    "# data format: 'real', 'imag', 'ang', 'ecc', 'gain', 'meanvol', 'R2', 'rfsize'\n",
    "\n",
    "polcomp = np.nan_to_num(-data[0,:]) - np.nan_to_num(data[1,:]) * 1j\n",
    "\n",
    "angs = np.angle(polcomp)\n",
    "rsq = np.nan_to_num(data[-1,:])\n",
    "s_rsq = rsq * np.sign(data[4,:])\n",
    "angs_n = (np.nan_to_num(angs) + np.pi) / (2*np.pi)\n",
    "\n",
    "# convert angles to colors, using correlations as weights\n",
    "hsv = np.zeros(list(angs_n.shape) + [3])\n",
    "hsv[..., 0] = angs_n # angs_discrete  # angs_n\n",
    "hsv[..., 1] = np.ones_like(rsq) # np.sqrt(rsq) #np.ones_like(rsq)  # np.sqrt(rsq)\n",
    "# np.nan_to_num(rsq ** -3) # np.ones_like(rsq)#n\n",
    "hsv[..., 2] = (rsq >= 0.1).astype(float)# np.ones_like(rsq)\n",
    "\n",
    "rgb = colors.hsv_to_rgb(hsv) * 255\n",
    "\n",
    "red = cortex.Vertex(rgb[:,0].astype(np.uint8), subject='fsaverage', vmin=0, vmax=25)\n",
    "green = cortex.Vertex(rgb[:,1].astype(np.uint8), subject='fsaverage', vmin=0, vmax=25)\n",
    "blue = cortex.Vertex(rgb[:,2].astype(np.uint8), subject='fsaverage', vmin=0, vmax=25)\n",
    "\n",
    "polar_vertex_data = cortex.VertexRGB(red, green, blue, subject='fsaverage')\n",
    "\n",
    "# plotting is slow with db over sshfs\n",
    "# cortex.quickshow(vertex_data, with_colorbar=False)\n",
    "# pl.show()\n",
    "# cortex.quickshow(cortex.Vertex(rsq, subject='fsaverage'), with_colorbar=False)\n",
    "# pl.show()\n",
    "\n",
    "ecc = np.nan_to_num(data[2,:])\n",
    "size = np.nan_to_num(data[4,:])\n",
    "\n",
    "ecc[rsq<=0.1] = np.nan\n",
    "size[rsq<=0.1] = np.nan\n",
    "\n",
    "ecc_vert = cortex.Vertex(-ecc, subject='fsaverage', cmap='viridis') # , vmin1=0, vmax1=5, vmin2=0, vmax2=5, cmap='RdGn_covar'\n",
    "size_vert = cortex.Vertex(-size, subject='fsaverage', cmap='viridis') # , vmin1=0, vmax1=5, vmin2=0, vmax2=5, cmap='RdGn_covar'"
   ]
  },
  {
   "cell_type": "code",
   "execution_count": 16,
   "metadata": {
    "inputHidden": false,
    "outputHidden": false
   },
   "outputs": [
    {
     "data": {
      "image/png": "[encoded data removed]",
      "text/plain": [
       "<matplotlib.figure.Figure at 0xa1def3d68>"
      ]
     },
     "metadata": {},
     "output_type": "display_data"
    }
   ],
   "source": [
    "f, ss= pl.subplots(1,7, figsize=(20,4))\n",
    "ss[0].hist(np.nan_to_num(data[0,:]), bins=100)\n",
    "ss[0].hist(np.nan_to_num(data[1,:]), bins=100)\n",
    "ss[0].set_title('real and imaginary numbers \\nfrom original data (x and y)')\n",
    "ss[1].hist(np.nan_to_num(data[4,:]), bins=100, range=[-10,10])\n",
    "ss[1].hist(np.nan_to_num(data[5,:]), bins=100, range=[-10,10])\n",
    "ss[1].set_title('gain and baseline')\n",
    "\n",
    "ss[2].hist(np.nan_to_num(angs), bins=100)\n",
    "ss[2].set_title('angles in radians')\n",
    "\n",
    "ss[3].hist(np.nan_to_num(rsq), bins=100)\n",
    "ss[3].set_title('rsq')\n",
    "\n",
    "ss[4].hist(np.nan_to_num(angs_n), bins=100)\n",
    "ss[4].set_title('normalized angles');\n",
    "\n",
    "ss[5].hist(np.nan_to_num(ecc), bins=100)\n",
    "ss[5].set_title('ecc');\n",
    "\n",
    "ss[6].hist(np.nan_to_num(size), bins=100, range=[0,10])\n",
    "ss[6].set_title('size');\n",
    "pl.tight_layout()"
   ]
  },
  {
   "cell_type": "code",
   "execution_count": 17,
   "metadata": {
    "inputHidden": false,
    "outputHidden": false
   },
   "outputs": [
    {
     "name": "stdout",
     "output_type": "stream",
     "text": [
      "Started server on port 1983\n"
     ]
    },
    {
     "data": {
      "text/plain": [
       "<JS: window.viewer>"
      ]
     },
     "execution_count": 17,
     "metadata": {},
     "output_type": "execute_result"
    }
   ],
   "source": [
    "ds = cortex.Dataset(ecc=ecc_vert, size=size_vert, polar=polar_vertex_data, rsq=cortex.Vertex(s_rsq, subject='fsaverage', vmin=-0.5, vmax=0.5))\n",
    "cortex.webgl.show(ds, with_labels=False, with_rois=False)"
   ]
  },
  {
   "cell_type": "code",
   "execution_count": 18,
   "metadata": {
    "collapsed": true,
    "inputHidden": false,
    "outputHidden": false
   },
   "outputs": [],
   "source": []
  }
 ],
 "metadata": {
  "kernel_info": {
   "name": "py36"
  },
  "kernelspec": {
   "display_name": "Python 3",
   "language": "python",
   "name": "python3"
  },
  "language_info": {
   "codemirror_mode": {
    "name": "ipython",
    "version": 3
   },
   "file_extension": ".py",
   "mimetype": "text/x-python",
   "name": "python",
   "nbconvert_exporter": "python",
   "pygments_lexer": "ipython3",
   "version": "3.6.3"
  },
  "nteract": {
   "version": "0.8.4"
  }
 },
 "nbformat": 4,
 "nbformat_minor": 4
}
